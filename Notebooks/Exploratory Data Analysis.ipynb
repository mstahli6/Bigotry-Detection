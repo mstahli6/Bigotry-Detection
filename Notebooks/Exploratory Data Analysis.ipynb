{
 "cells": [
  {
   "cell_type": "markdown",
   "id": "139101ac",
   "metadata": {},
   "source": [
    "# Exploratory Data Analysis\n",
    "Data Overlook \n",
    " - [Bigotry Confidence Decision](#Bigotry-Confidence-Decision)\n",
    "\n",
    "[Create Text Features](#Create-Text-Features)\n",
    "\n",
    "[Text Cleaning](#Text-Cleaning)\n",
    "\n",
    "[Emotion Sensor Dataset](#Emotion-Sensor-Dataset)\n",
    " - [Combining the Datasets](#Combining-the-Datasets)\n",
    "\n",
    "[Exploring Features with Visualization](#Exploring-Features)\n",
    "\n",
    "[Naive Bayes for Predictive Words](#Naive-Bayes-for-Predictive-Words)\n",
    "\n",
    "[Emotion Feature Ranking with Random Forest](#Emotion-Sensor-Feature-Ranking-with-Random-Forest)\n"
   ]
  },
  {
   "cell_type": "code",
   "execution_count": 2,
   "id": "e818b20d",
   "metadata": {},
   "outputs": [],
   "source": [
    "import pandas as pd\n",
    "import numpy as np\n",
    "import seaborn as sns\n",
    "import matplotlib.pyplot as plt"
   ]
  },
  {
   "cell_type": "code",
   "execution_count": 3,
   "id": "485ef42e",
   "metadata": {},
   "outputs": [],
   "source": [
    "df = pd.read_csv(r'/Users/michelstahli/Spring 2022 (Bootcamp+)/Jupyter Notebook CSVs/rbig_booled.csv', index_col=0)"
   ]
  },
  {
   "cell_type": "code",
   "execution_count": 4,
   "id": "eae34b01",
   "metadata": {},
   "outputs": [
    {
     "data": {
      "text/html": [
       "<div>\n",
       "<style scoped>\n",
       "    .dataframe tbody tr th:only-of-type {\n",
       "        vertical-align: middle;\n",
       "    }\n",
       "\n",
       "    .dataframe tbody tr th {\n",
       "        vertical-align: top;\n",
       "    }\n",
       "\n",
       "    .dataframe thead th {\n",
       "        text-align: right;\n",
       "    }\n",
       "</style>\n",
       "<table border=\"1\" class=\"dataframe\">\n",
       "  <thead>\n",
       "    <tr style=\"text-align: right;\">\n",
       "      <th></th>\n",
       "      <th>num_id</th>\n",
       "      <th>reviewers</th>\n",
       "      <th>bigotry</th>\n",
       "      <th>bigotry_c</th>\n",
       "      <th>directed</th>\n",
       "      <th>directed_c</th>\n",
       "      <th>sentiment_comment</th>\n",
       "      <th>sentcom_c</th>\n",
       "      <th>sentiment_topic</th>\n",
       "      <th>senttop_c</th>\n",
       "      <th>author_name</th>\n",
       "      <th>text</th>\n",
       "      <th>id</th>\n",
       "      <th>overall_sentiment_score</th>\n",
       "      <th>subreddit</th>\n",
       "      <th>subreddit_id</th>\n",
       "      <th>ups</th>\n",
       "    </tr>\n",
       "  </thead>\n",
       "  <tbody>\n",
       "    <tr>\n",
       "      <th>0</th>\n",
       "      <td>684790497</td>\n",
       "      <td>3</td>\n",
       "      <td>False</td>\n",
       "      <td>0.6585</td>\n",
       "      <td>True</td>\n",
       "      <td>1.0000</td>\n",
       "      <td>neutral</td>\n",
       "      <td>1.0000</td>\n",
       "      <td>neutral</td>\n",
       "      <td>1.0000</td>\n",
       "      <td>UFOabductee</td>\n",
       "      <td>Is this where I'm supposed to start a Linux fl...</td>\n",
       "      <td>t1_c15vcg9</td>\n",
       "      <td>-1.396659</td>\n",
       "      <td>announcements</td>\n",
       "      <td>t5_2r0ij</td>\n",
       "      <td>132</td>\n",
       "    </tr>\n",
       "    <tr>\n",
       "      <th>1</th>\n",
       "      <td>684790498</td>\n",
       "      <td>3</td>\n",
       "      <td>False</td>\n",
       "      <td>1.0000</td>\n",
       "      <td>True</td>\n",
       "      <td>1.0000</td>\n",
       "      <td>neutral</td>\n",
       "      <td>1.0000</td>\n",
       "      <td>neutral</td>\n",
       "      <td>1.0000</td>\n",
       "      <td>RaiseYourGlass</td>\n",
       "      <td>Yeah man, back then OS's didn't need viruses t...</td>\n",
       "      <td>t1_c15wddg</td>\n",
       "      <td>0.688598</td>\n",
       "      <td>announcements</td>\n",
       "      <td>t5_2r0ij</td>\n",
       "      <td>13</td>\n",
       "    </tr>\n",
       "    <tr>\n",
       "      <th>2</th>\n",
       "      <td>684790499</td>\n",
       "      <td>3</td>\n",
       "      <td>False</td>\n",
       "      <td>1.0000</td>\n",
       "      <td>True</td>\n",
       "      <td>0.6492</td>\n",
       "      <td>neutral</td>\n",
       "      <td>0.6492</td>\n",
       "      <td>neutral</td>\n",
       "      <td>1.0000</td>\n",
       "      <td>raldi</td>\n",
       "      <td>&amp;gt; I just extended for a year, verified, and...</td>\n",
       "      <td>t1_c16z039</td>\n",
       "      <td>-0.413420</td>\n",
       "      <td>announcements</td>\n",
       "      <td>t5_2r0ij</td>\n",
       "      <td>8</td>\n",
       "    </tr>\n",
       "    <tr>\n",
       "      <th>3</th>\n",
       "      <td>684790500</td>\n",
       "      <td>3</td>\n",
       "      <td>False</td>\n",
       "      <td>1.0000</td>\n",
       "      <td>True</td>\n",
       "      <td>0.6578</td>\n",
       "      <td>neutral</td>\n",
       "      <td>0.3602</td>\n",
       "      <td>neutral</td>\n",
       "      <td>0.7024</td>\n",
       "      <td>TheCid</td>\n",
       "      <td>The hell? That many people getting r/lounge ac...</td>\n",
       "      <td>t1_c16zi8e</td>\n",
       "      <td>-0.880108</td>\n",
       "      <td>announcements</td>\n",
       "      <td>t5_2r0ij</td>\n",
       "      <td>2</td>\n",
       "    </tr>\n",
       "    <tr>\n",
       "      <th>4</th>\n",
       "      <td>684790501</td>\n",
       "      <td>3</td>\n",
       "      <td>False</td>\n",
       "      <td>1.0000</td>\n",
       "      <td>True</td>\n",
       "      <td>1.0000</td>\n",
       "      <td>positive</td>\n",
       "      <td>1.0000</td>\n",
       "      <td>positive</td>\n",
       "      <td>1.0000</td>\n",
       "      <td>eunos</td>\n",
       "      <td>Worked perfectly! I'm glad to have given back ...</td>\n",
       "      <td>t1_c17051h</td>\n",
       "      <td>3.160947</td>\n",
       "      <td>announcements</td>\n",
       "      <td>t5_2r0ij</td>\n",
       "      <td>2</td>\n",
       "    </tr>\n",
       "  </tbody>\n",
       "</table>\n",
       "</div>"
      ],
      "text/plain": [
       "      num_id  reviewers  bigotry  bigotry_c  directed  directed_c  \\\n",
       "0  684790497          3    False     0.6585      True      1.0000   \n",
       "1  684790498          3    False     1.0000      True      1.0000   \n",
       "2  684790499          3    False     1.0000      True      0.6492   \n",
       "3  684790500          3    False     1.0000      True      0.6578   \n",
       "4  684790501          3    False     1.0000      True      1.0000   \n",
       "\n",
       "  sentiment_comment  sentcom_c sentiment_topic  senttop_c     author_name  \\\n",
       "0           neutral     1.0000         neutral     1.0000     UFOabductee   \n",
       "1           neutral     1.0000         neutral     1.0000  RaiseYourGlass   \n",
       "2           neutral     0.6492         neutral     1.0000           raldi   \n",
       "3           neutral     0.3602         neutral     0.7024          TheCid   \n",
       "4          positive     1.0000        positive     1.0000           eunos   \n",
       "\n",
       "                                                text          id  \\\n",
       "0  Is this where I'm supposed to start a Linux fl...  t1_c15vcg9   \n",
       "1  Yeah man, back then OS's didn't need viruses t...  t1_c15wddg   \n",
       "2  &gt; I just extended for a year, verified, and...  t1_c16z039   \n",
       "3  The hell? That many people getting r/lounge ac...  t1_c16zi8e   \n",
       "4  Worked perfectly! I'm glad to have given back ...  t1_c17051h   \n",
       "\n",
       "   overall_sentiment_score      subreddit subreddit_id  ups  \n",
       "0                -1.396659  announcements     t5_2r0ij  132  \n",
       "1                 0.688598  announcements     t5_2r0ij   13  \n",
       "2                -0.413420  announcements     t5_2r0ij    8  \n",
       "3                -0.880108  announcements     t5_2r0ij    2  \n",
       "4                 3.160947  announcements     t5_2r0ij    2  "
      ]
     },
     "execution_count": 4,
     "metadata": {},
     "output_type": "execute_result"
    }
   ],
   "source": [
    "df.head()"
   ]
  },
  {
   "cell_type": "markdown",
   "id": "4035d021",
   "metadata": {},
   "source": [
    "As a reminder, we have missing data for sentiment_comment and sentcom_c. If we decide to include this in our model we need to deal with this."
   ]
  },
  {
   "cell_type": "markdown",
   "id": "c83b28d4",
   "metadata": {},
   "source": [
    "### Bigotry Confidence Decision\n",
    "(Low confidence in bigotry seems to mostly affect cases where bigotry==True)"
   ]
  },
  {
   "cell_type": "code",
   "execution_count": 5,
   "id": "637ab81f",
   "metadata": {
    "scrolled": true
   },
   "outputs": [
    {
     "name": "stdout",
     "output_type": "stream",
     "text": [
      "All confidence:\n",
      "921\n",
      "Unanimous:\n",
      "236\n",
      "Greater than or equal 0.66:\n",
      "608\n",
      "[3 4 5]\n",
      "Greater than 0.67:\n",
      "549\n"
     ]
    }
   ],
   "source": [
    "#Only use bigotry confidence = 1, since so many observations\n",
    "y = (df['bigotry'] == True).values.astype(int)\n",
    "print(\"All confidence:\")\n",
    "print(y.sum())\n",
    "df_big = df[df['bigotry_c'] >= 1]\n",
    "y = (df_big['bigotry'] == True).values.astype(int)\n",
    "print(\"Unanimous:\")\n",
    "print(y.sum())\n",
    "df_big = df[df['bigotry_c'] >= 0.66]\n",
    "y = (df_big['bigotry'] == True).values.astype(int)\n",
    "print(\"Greater than or equal 0.66:\")\n",
    "print(y.sum())\n",
    "print(df['reviewers'].unique())\n",
    "df_big = df[df['bigotry_c'] >= 0.667]\n",
    "y = (df_big['bigotry'] == True).values.astype(int)\n",
    "print(\"Greater than 0.67:\")\n",
    "print(y.sum())"
   ]
  },
  {
   "cell_type": "markdown",
   "id": "26d6cb11",
   "metadata": {},
   "source": [
    "Currently using greater than 0.67 confidence for bigotry. "
   ]
  },
  {
   "cell_type": "code",
   "execution_count": 6,
   "id": "20ab7c42",
   "metadata": {
    "scrolled": true
   },
   "outputs": [
    {
     "name": "stdout",
     "output_type": "stream",
     "text": [
      "[3 4 5]\n"
     ]
    }
   ],
   "source": [
    "#Number of reviewers fixed itself\n",
    "print(df_big['reviewers'].unique())"
   ]
  },
  {
   "cell_type": "markdown",
   "id": "b2504c77",
   "metadata": {},
   "source": [
    "## Create Text Features\n",
    "### readability, word count, upper/lower case"
   ]
  },
  {
   "cell_type": "code",
   "execution_count": 6,
   "id": "f65a3dbc",
   "metadata": {},
   "outputs": [],
   "source": [
    "#Let's create some text features\n",
    "#pip install textstat\n",
    "import textstat"
   ]
  },
  {
   "cell_type": "code",
   "execution_count": 7,
   "id": "6b011bb2",
   "metadata": {},
   "outputs": [],
   "source": [
    "dal = df_big['text'].apply(textstat.dale_chall_readability_score)\n",
    "testan = df_big['text'].apply(textstat.text_standard)\n",
    "readt = pd.DataFrame({'dal':dal, 'testan':testan})"
   ]
  },
  {
   "cell_type": "code",
   "execution_count": 8,
   "id": "7115e06b",
   "metadata": {},
   "outputs": [],
   "source": [
    "df_big['dal'] = readt['dal']\n",
    "df_big['testan'] = readt['testan']"
   ]
  },
  {
   "cell_type": "code",
   "execution_count": 9,
   "id": "87dc40a8",
   "metadata": {},
   "outputs": [
    {
     "name": "stdout",
     "output_type": "stream",
     "text": [
      "11.78\n"
     ]
    },
    {
     "data": {
      "text/plain": [
       "(171,)"
      ]
     },
     "execution_count": 9,
     "metadata": {},
     "output_type": "execute_result"
    }
   ],
   "source": [
    "df_complicated_words = df_big[df_big['dal'] > 11.83]\n",
    "df_complicated_words = df_complicated_words[df_complicated_words['ups'] > 15]\n",
    "df_complicated_words = df_complicated_words.text\n",
    "print(df_big.dal.quantile(0.90))\n",
    "df_complicated_words.shape\n",
    "#Should probably filter for non-letter - see below example"
   ]
  },
  {
   "cell_type": "code",
   "execution_count": 10,
   "id": "bada9475",
   "metadata": {},
   "outputs": [],
   "source": [
    "df_big['word_count'] = df_big['text'].str.split().map(len)\n",
    "\n",
    "#|print(list(df_big[df_big['Unnamed: 0'] == 1].text), df_big[df_big['Unnamed: 0'] == 1].word_count )"
   ]
  },
  {
   "cell_type": "code",
   "execution_count": 11,
   "id": "7e8d80e7",
   "metadata": {},
   "outputs": [
    {
     "data": {
      "text/html": [
       "<div>\n",
       "<style scoped>\n",
       "    .dataframe tbody tr th:only-of-type {\n",
       "        vertical-align: middle;\n",
       "    }\n",
       "\n",
       "    .dataframe tbody tr th {\n",
       "        vertical-align: top;\n",
       "    }\n",
       "\n",
       "    .dataframe thead th {\n",
       "        text-align: right;\n",
       "    }\n",
       "</style>\n",
       "<table border=\"1\" class=\"dataframe\">\n",
       "  <thead>\n",
       "    <tr style=\"text-align: right;\">\n",
       "      <th></th>\n",
       "      <th>num_id</th>\n",
       "      <th>reviewers</th>\n",
       "      <th>bigotry</th>\n",
       "      <th>bigotry_c</th>\n",
       "      <th>directed</th>\n",
       "      <th>directed_c</th>\n",
       "      <th>sentiment_comment</th>\n",
       "      <th>sentcom_c</th>\n",
       "      <th>sentiment_topic</th>\n",
       "      <th>senttop_c</th>\n",
       "      <th>author_name</th>\n",
       "      <th>text</th>\n",
       "      <th>id</th>\n",
       "      <th>overall_sentiment_score</th>\n",
       "      <th>subreddit</th>\n",
       "      <th>subreddit_id</th>\n",
       "      <th>ups</th>\n",
       "      <th>dal</th>\n",
       "      <th>testan</th>\n",
       "      <th>word_count</th>\n",
       "    </tr>\n",
       "  </thead>\n",
       "  <tbody>\n",
       "    <tr>\n",
       "      <th>1</th>\n",
       "      <td>684790498</td>\n",
       "      <td>3</td>\n",
       "      <td>False</td>\n",
       "      <td>1.0</td>\n",
       "      <td>True</td>\n",
       "      <td>1.0000</td>\n",
       "      <td>neutral</td>\n",
       "      <td>1.0000</td>\n",
       "      <td>neutral</td>\n",
       "      <td>1.0000</td>\n",
       "      <td>RaiseYourGlass</td>\n",
       "      <td>Yeah man, back then OS's didn't need viruses t...</td>\n",
       "      <td>t1_c15wddg</td>\n",
       "      <td>0.688598</td>\n",
       "      <td>announcements</td>\n",
       "      <td>t5_2r0ij</td>\n",
       "      <td>13</td>\n",
       "      <td>8.38</td>\n",
       "      <td>6th and 7th grade</td>\n",
       "      <td>16</td>\n",
       "    </tr>\n",
       "    <tr>\n",
       "      <th>2</th>\n",
       "      <td>684790499</td>\n",
       "      <td>3</td>\n",
       "      <td>False</td>\n",
       "      <td>1.0</td>\n",
       "      <td>True</td>\n",
       "      <td>0.6492</td>\n",
       "      <td>neutral</td>\n",
       "      <td>0.6492</td>\n",
       "      <td>neutral</td>\n",
       "      <td>1.0000</td>\n",
       "      <td>raldi</td>\n",
       "      <td>&amp;gt; I just extended for a year, verified, and...</td>\n",
       "      <td>t1_c16z039</td>\n",
       "      <td>-0.413420</td>\n",
       "      <td>announcements</td>\n",
       "      <td>t5_2r0ij</td>\n",
       "      <td>8</td>\n",
       "      <td>11.38</td>\n",
       "      <td>6th and 7th grade</td>\n",
       "      <td>38</td>\n",
       "    </tr>\n",
       "    <tr>\n",
       "      <th>3</th>\n",
       "      <td>684790500</td>\n",
       "      <td>3</td>\n",
       "      <td>False</td>\n",
       "      <td>1.0</td>\n",
       "      <td>True</td>\n",
       "      <td>0.6578</td>\n",
       "      <td>neutral</td>\n",
       "      <td>0.3602</td>\n",
       "      <td>neutral</td>\n",
       "      <td>0.7024</td>\n",
       "      <td>TheCid</td>\n",
       "      <td>The hell? That many people getting r/lounge ac...</td>\n",
       "      <td>t1_c16zi8e</td>\n",
       "      <td>-0.880108</td>\n",
       "      <td>announcements</td>\n",
       "      <td>t5_2r0ij</td>\n",
       "      <td>2</td>\n",
       "      <td>8.18</td>\n",
       "      <td>4th and 5th grade</td>\n",
       "      <td>12</td>\n",
       "    </tr>\n",
       "    <tr>\n",
       "      <th>4</th>\n",
       "      <td>684790501</td>\n",
       "      <td>3</td>\n",
       "      <td>False</td>\n",
       "      <td>1.0</td>\n",
       "      <td>True</td>\n",
       "      <td>1.0000</td>\n",
       "      <td>positive</td>\n",
       "      <td>1.0000</td>\n",
       "      <td>positive</td>\n",
       "      <td>1.0000</td>\n",
       "      <td>eunos</td>\n",
       "      <td>Worked perfectly! I'm glad to have given back ...</td>\n",
       "      <td>t1_c17051h</td>\n",
       "      <td>3.160947</td>\n",
       "      <td>announcements</td>\n",
       "      <td>t5_2r0ij</td>\n",
       "      <td>2</td>\n",
       "      <td>10.09</td>\n",
       "      <td>11th and 12th grade</td>\n",
       "      <td>41</td>\n",
       "    </tr>\n",
       "    <tr>\n",
       "      <th>5</th>\n",
       "      <td>684790502</td>\n",
       "      <td>3</td>\n",
       "      <td>False</td>\n",
       "      <td>1.0</td>\n",
       "      <td>True</td>\n",
       "      <td>0.6862</td>\n",
       "      <td>positive</td>\n",
       "      <td>0.3633</td>\n",
       "      <td>positive</td>\n",
       "      <td>0.3633</td>\n",
       "      <td>Player-Hater</td>\n",
       "      <td>This is so bullshit. Why doesn't anyone gift m...</td>\n",
       "      <td>t1_c17qrth</td>\n",
       "      <td>-1.269243</td>\n",
       "      <td>announcements</td>\n",
       "      <td>t5_2r0ij</td>\n",
       "      <td>2</td>\n",
       "      <td>7.04</td>\n",
       "      <td>1st and 2nd grade</td>\n",
       "      <td>10</td>\n",
       "    </tr>\n",
       "  </tbody>\n",
       "</table>\n",
       "</div>"
      ],
      "text/plain": [
       "      num_id  reviewers  bigotry  bigotry_c  directed  directed_c  \\\n",
       "1  684790498          3    False        1.0      True      1.0000   \n",
       "2  684790499          3    False        1.0      True      0.6492   \n",
       "3  684790500          3    False        1.0      True      0.6578   \n",
       "4  684790501          3    False        1.0      True      1.0000   \n",
       "5  684790502          3    False        1.0      True      0.6862   \n",
       "\n",
       "  sentiment_comment  sentcom_c sentiment_topic  senttop_c     author_name  \\\n",
       "1           neutral     1.0000         neutral     1.0000  RaiseYourGlass   \n",
       "2           neutral     0.6492         neutral     1.0000           raldi   \n",
       "3           neutral     0.3602         neutral     0.7024          TheCid   \n",
       "4          positive     1.0000        positive     1.0000           eunos   \n",
       "5          positive     0.3633        positive     0.3633    Player-Hater   \n",
       "\n",
       "                                                text          id  \\\n",
       "1  Yeah man, back then OS's didn't need viruses t...  t1_c15wddg   \n",
       "2  &gt; I just extended for a year, verified, and...  t1_c16z039   \n",
       "3  The hell? That many people getting r/lounge ac...  t1_c16zi8e   \n",
       "4  Worked perfectly! I'm glad to have given back ...  t1_c17051h   \n",
       "5  This is so bullshit. Why doesn't anyone gift m...  t1_c17qrth   \n",
       "\n",
       "   overall_sentiment_score      subreddit subreddit_id  ups    dal  \\\n",
       "1                 0.688598  announcements     t5_2r0ij   13   8.38   \n",
       "2                -0.413420  announcements     t5_2r0ij    8  11.38   \n",
       "3                -0.880108  announcements     t5_2r0ij    2   8.18   \n",
       "4                 3.160947  announcements     t5_2r0ij    2  10.09   \n",
       "5                -1.269243  announcements     t5_2r0ij    2   7.04   \n",
       "\n",
       "                testan  word_count  \n",
       "1    6th and 7th grade          16  \n",
       "2    6th and 7th grade          38  \n",
       "3    4th and 5th grade          12  \n",
       "4  11th and 12th grade          41  \n",
       "5    1st and 2nd grade          10  "
      ]
     },
     "execution_count": 11,
     "metadata": {},
     "output_type": "execute_result"
    }
   ],
   "source": [
    "df_big.head()"
   ]
  },
  {
   "cell_type": "code",
   "execution_count": 12,
   "id": "7b0012f6",
   "metadata": {},
   "outputs": [
    {
     "data": {
      "text/plain": [
       "\"Yeah man, back then OS's didn't need viruses to crash, they just did it by themselves!\""
      ]
     },
     "execution_count": 12,
     "metadata": {},
     "output_type": "execute_result"
    }
   ],
   "source": [
    "df_big.iloc[0, 11]"
   ]
  },
  {
   "cell_type": "code",
   "execution_count": 13,
   "id": "36cad4e1",
   "metadata": {},
   "outputs": [
    {
     "name": "stdout",
     "output_type": "stream",
     "text": [
      "(215, 24)\n",
      "(8710, 24)\n"
     ]
    }
   ],
   "source": [
    "#Get upper/lower case info \n",
    "df_big['uppercase'] = df_big['text'].str.findall(r'[A-Z]').str.len()\n",
    "df_big['lowercase'] = df_big['text'].str.findall(r'[a-z]').str.len()\n",
    "df_big['up_low_ratio'] = df_big['uppercase']/(df_big['uppercase']+df_big['lowercase'])\n",
    "df_big['caps>50'] = np.where(df_big['up_low_ratio']>0.5, True, False)\n",
    "print(df_big[df_big['caps>50']==True].shape)\n",
    "print(df_big[df_big['caps>50']==False].shape)"
   ]
  },
  {
   "cell_type": "markdown",
   "id": "1e861ab9",
   "metadata": {},
   "source": [
    "## Text Cleaning"
   ]
  },
  {
   "cell_type": "code",
   "execution_count": 14,
   "id": "2caf97c8",
   "metadata": {},
   "outputs": [],
   "source": [
    "import re"
   ]
  },
  {
   "cell_type": "markdown",
   "id": "37975704",
   "metadata": {},
   "source": [
    "***Lower case***"
   ]
  },
  {
   "cell_type": "code",
   "execution_count": 15,
   "id": "6ab43f78",
   "metadata": {},
   "outputs": [],
   "source": [
    "df_aug = df_big\n",
    "df_aug['text']=df_aug['text'].apply(lambda x: x.lower())"
   ]
  },
  {
   "cell_type": "markdown",
   "id": "65f63114",
   "metadata": {},
   "source": [
    "***Contraction expansion***"
   ]
  },
  {
   "cell_type": "code",
   "execution_count": 16,
   "id": "9e21762d",
   "metadata": {},
   "outputs": [],
   "source": [
    "#Code from https://www.analyticsvidhya.com/blog/2020/04/beginners-guide-exploratory-data-analysis-text-data/#5\n",
    "contractions_dict = { \"ain't\": \"are not\",\"'s\":\" is\",\"aren't\": \"are not\",\n",
    "                     \"can't\": \"cannot\",\"can't've\": \"cannot have\",\n",
    "                     \"'cause\": \"because\",\"could've\": \"could have\",\"couldn't\": \"could not\",\n",
    "                     \"couldn't've\": \"could not have\", \"didn't\": \"did not\",\"doesn't\": \"does not\",\n",
    "                     \"don't\": \"do not\",\"hadn't\": \"had not\",\"hadn't've\": \"had not have\",\n",
    "                     \"hasn't\": \"has not\",\"haven't\": \"have not\",\"he'd\": \"he would\",\n",
    "                     \"he'd've\": \"he would have\",\"he'll\": \"he will\", \"he'll've\": \"he will have\",\n",
    "                     \"how'd\": \"how did\",\"how'd'y\": \"how do you\",\"how'll\": \"how will\",\n",
    "                     \"I'd\": \"I would\", \"I'd've\": \"I would have\",\"I'll\": \"I will\",\n",
    "                     \"I'll've\": \"I will have\",\"I'm\": \"I am\",\"I've\": \"I have\", \"isn't\": \"is not\",\n",
    "                     \"it'd\": \"it would\",\"it'd've\": \"it would have\",\"it'll\": \"it will\",\n",
    "                     \"it'll've\": \"it will have\", \"let's\": \"let us\",\"ma'am\": \"madam\",\n",
    "                     \"mayn't\": \"may not\",\"might've\": \"might have\",\"mightn't\": \"might not\", \n",
    "                     \"mightn't've\": \"might not have\",\"must've\": \"must have\",\"mustn't\": \"must not\",\n",
    "                     \"mustn't've\": \"must not have\", \"needn't\": \"need not\",\n",
    "                     \"needn't've\": \"need not have\",\"o'clock\": \"of the clock\",\"oughtn't\": \"ought not\",\n",
    "                     \"oughtn't've\": \"ought not have\",\"shan't\": \"shall not\",\"sha'n't\": \"shall not\",\n",
    "                     \"shan't've\": \"shall not have\",\"she'd\": \"she would\",\"she'd've\": \"she would have\",\n",
    "                     \"she'll\": \"she will\", \"she'll've\": \"she will have\",\"should've\": \"should have\",\n",
    "                     \"shouldn't\": \"should not\", \"shouldn't've\": \"should not have\",\"so've\": \"so have\",\n",
    "                     \"that'd\": \"that would\",\"that'd've\": \"that would have\", \"there'd\": \"there would\",\n",
    "                     \"there'd've\": \"there would have\", \"they'd\": \"they would\",\n",
    "                     \"they'd've\": \"they would have\",\"they'll\": \"they will\",\n",
    "                     \"they'll've\": \"they will have\", \"they're\": \"they are\",\"they've\": \"they have\",\n",
    "                     \"to've\": \"to have\",\"wasn't\": \"was not\",\"we'd\": \"we would\",\n",
    "                     \"we'd've\": \"we would have\",\"we'll\": \"we will\",\"we'll've\": \"we will have\",\n",
    "                     \"we're\": \"we are\",\"we've\": \"we have\", \"weren't\": \"were not\",\"what'll\": \"what will\",\n",
    "                     \"what'll've\": \"what will have\",\"what're\": \"what are\", \"what've\": \"what have\",\n",
    "                     \"when've\": \"when have\",\"where'd\": \"where did\", \"where've\": \"where have\",\n",
    "                     \"who'll\": \"who will\",\"who'll've\": \"who will have\",\"who've\": \"who have\",\n",
    "                     \"why've\": \"why have\",\"will've\": \"will have\",\"won't\": \"will not\",\n",
    "                     \"won't've\": \"will not have\", \"would've\": \"would have\",\"wouldn't\": \"would not\",\n",
    "                     \"wouldn't've\": \"would not have\",\"y'all\": \"you all\", \"y'all'd\": \"you all would\",\n",
    "                     \"y'all'd've\": \"you all would have\",\"y'all're\": \"you all are\",\n",
    "                     \"y'all've\": \"you all have\", \"you'd\": \"you would\",\"you'd've\": \"you would have\",\n",
    "                     \"you'll\": \"you will\",\"you'll've\": \"you will have\", \"you're\": \"you are\",\n",
    "                     \"you've\": \"you have\"}\n",
    "\n",
    "# Regular expression for finding contractions\n",
    "contractions_re=re.compile('(%s)' % '|'.join(contractions_dict.keys()))\n",
    "\n",
    "# Function for expanding contractions\n",
    "def expand_contractions(text,contractions_dict=contractions_dict):\n",
    "  def replace(match):\n",
    "    return contractions_dict[match.group(0)]\n",
    "  return contractions_re.sub(replace, text)\n",
    "\n",
    "# Expanding Contractions\n",
    "df_aug['text']=df_aug['text'].apply(lambda x:expand_contractions(x))"
   ]
  },
  {
   "cell_type": "markdown",
   "id": "27fcbbb3",
   "metadata": {},
   "source": [
    "***Digits, punctuation, spaces***"
   ]
  },
  {
   "cell_type": "code",
   "execution_count": 17,
   "id": "4932da3a",
   "metadata": {},
   "outputs": [],
   "source": [
    "df_aug['text']= df_aug['text'].apply(lambda x: re.sub('\\w*\\d\\w*','', x)) #digits and words with digits\n",
    "df_aug['text']= df_aug['text'].apply(lambda x: re.sub(r'[^\\w\\d\\s]+','', x)) #punctuation\n",
    "df_aug['text']= df_aug['text'].apply(lambda x: str.strip(x)) #extra spaces"
   ]
  },
  {
   "cell_type": "markdown",
   "id": "17caa193",
   "metadata": {},
   "source": [
    "***Lemmatization***"
   ]
  },
  {
   "cell_type": "code",
   "execution_count": 18,
   "id": "e2ad11cb",
   "metadata": {},
   "outputs": [
    {
     "name": "stderr",
     "output_type": "stream",
     "text": [
      "[nltk_data] Downloading package omw-1.4 to\n",
      "[nltk_data]     /Users/michelstahli/nltk_data...\n",
      "[nltk_data]   Package omw-1.4 is already up-to-date!\n"
     ]
    }
   ],
   "source": [
    "from nltk.stem import WordNetLemmatizer\n",
    "from nltk.tokenize import word_tokenize, WhitespaceTokenizer\n",
    "import nltk\n",
    "nltk.download('omw-1.4') #Gave error and said to do this \n",
    "\n",
    "w_tokenizer = WhitespaceTokenizer()\n",
    "lemmatizer = WordNetLemmatizer()\n",
    "\n",
    "def lemmatize_text(text):\n",
    "    return [lemmatizer.lemmatize(w) for w in w_tokenizer.tokenize(text)]\n",
    "\n",
    "df_aug['text_lemmatized'] = df_aug['text'].apply(lambda x: lemmatize_text(x))"
   ]
  },
  {
   "cell_type": "code",
   "execution_count": 65,
   "id": "1f7da1cf",
   "metadata": {},
   "outputs": [],
   "source": [
    "#df_pre.to_csv(r'/Users/michelstahli/Spring 2022 (Bootcamp+)/Jupyter Notebook CSVs/df_pre_filt.csv')\n",
    "#df_pre_filt = pd.read_csv(r'/Users/michelstahli/Spring 2022 (Bootcamp+)/Jupyter Notebook CSVs/df_pre_filt.csv')"
   ]
  },
  {
   "cell_type": "markdown",
   "id": "fb2467de",
   "metadata": {},
   "source": [
    "### Emotion Sensor Dataset"
   ]
  },
  {
   "cell_type": "code",
   "execution_count": 63,
   "id": "54f8ba8b",
   "metadata": {},
   "outputs": [
    {
     "name": "stdout",
     "output_type": "stream",
     "text": [
      "      word   disgust  surprise   neutral     anger       sad     happy  \\\n",
      "0  ability  0.004464  0.047832  0.000638  0.023597  0.013393  0.015944   \n",
      "1     able  0.000017  0.000182  0.000409  0.000176  0.000219  0.000244   \n",
      "2    abuse  0.000532  0.000177  0.000177  0.137363  0.001241  0.001595   \n",
      "3  academy  0.007143  0.021429  0.007143  0.007143  0.007143  0.092857   \n",
      "4   accept  0.008271  0.006767  0.000752  0.048872  0.018797  0.024812   \n",
      "\n",
      "       fear  \n",
      "0  0.040179  \n",
      "1  0.000186  \n",
      "2  0.002659  \n",
      "3  0.035714  \n",
      "4  0.038346  \n"
     ]
    }
   ],
   "source": [
    "emotion_df = pd.read_csv('Andbrain_DataSet.csv')\n",
    "emotion_df['word'] = emotion_df['word'].str.strip()\n",
    "print(emotion_df.head())"
   ]
  },
  {
   "cell_type": "markdown",
   "id": "9b6de601",
   "metadata": {},
   "source": [
    "#### Combining the Datasets"
   ]
  },
  {
   "cell_type": "code",
   "execution_count": 64,
   "id": "732c8229",
   "metadata": {},
   "outputs": [],
   "source": [
    "def emotion_func(document):\n",
    "    the_list = []\n",
    "    for word in document:\n",
    "        if word in emotion_df['word'].values:\n",
    "            the_list.append(word)\n",
    "    return the_list\n",
    "\n",
    "df_aug['emotion_words'] = df_aug['text_lemmatized'].apply(emotion_func)\n",
    "      "
   ]
  },
  {
   "cell_type": "code",
   "execution_count": 66,
   "id": "337320a3",
   "metadata": {},
   "outputs": [],
   "source": [
    "def emo_func(column_name, list_of_words):\n",
    "    return emotion_df[emotion_df['word'].isin(list_of_words)][column_name].mean()"
   ]
  },
  {
   "cell_type": "code",
   "execution_count": 67,
   "id": "c3545898",
   "metadata": {},
   "outputs": [],
   "source": [
    "for column in emotion_df.columns[1:]:\n",
    "    df_aug[column] = df_aug['emotion_words'].apply(lambda x: emo_func(column, x))"
   ]
  },
  {
   "cell_type": "code",
   "execution_count": 7,
   "id": "d223475e",
   "metadata": {},
   "outputs": [],
   "source": [
    "#df_aug.head()"
   ]
  },
  {
   "cell_type": "markdown",
   "id": "712a2d74",
   "metadata": {},
   "source": [
    "***Get rid of unnecessary columns for final model***"
   ]
  },
  {
   "cell_type": "code",
   "execution_count": 69,
   "id": "a524f50b",
   "metadata": {},
   "outputs": [
    {
     "data": {
      "text/html": [
       "<div>\n",
       "<style scoped>\n",
       "    .dataframe tbody tr th:only-of-type {\n",
       "        vertical-align: middle;\n",
       "    }\n",
       "\n",
       "    .dataframe tbody tr th {\n",
       "        vertical-align: top;\n",
       "    }\n",
       "\n",
       "    .dataframe thead th {\n",
       "        text-align: right;\n",
       "    }\n",
       "</style>\n",
       "<table border=\"1\" class=\"dataframe\">\n",
       "  <thead>\n",
       "    <tr style=\"text-align: right;\">\n",
       "      <th></th>\n",
       "      <th>bigotry</th>\n",
       "      <th>directed</th>\n",
       "      <th>sentiment_comment</th>\n",
       "      <th>sentiment_topic</th>\n",
       "      <th>overall_sentiment_score</th>\n",
       "      <th>ups</th>\n",
       "      <th>dal</th>\n",
       "      <th>word_count</th>\n",
       "      <th>up_low_ratio</th>\n",
       "      <th>text_lemmatized</th>\n",
       "      <th>disgust</th>\n",
       "      <th>surprise</th>\n",
       "      <th>neutral</th>\n",
       "      <th>anger</th>\n",
       "      <th>sad</th>\n",
       "      <th>happy</th>\n",
       "      <th>fear</th>\n",
       "    </tr>\n",
       "  </thead>\n",
       "  <tbody>\n",
       "    <tr>\n",
       "      <th>1</th>\n",
       "      <td>False</td>\n",
       "      <td>True</td>\n",
       "      <td>neutral</td>\n",
       "      <td>neutral</td>\n",
       "      <td>0.688598</td>\n",
       "      <td>13</td>\n",
       "      <td>8.38</td>\n",
       "      <td>16</td>\n",
       "      <td>0.045455</td>\n",
       "      <td>[yeah, man, back, then, o, is, did, not, need,...</td>\n",
       "      <td>0.015762</td>\n",
       "      <td>0.026123</td>\n",
       "      <td>0.003467</td>\n",
       "      <td>0.017550</td>\n",
       "      <td>0.032248</td>\n",
       "      <td>0.024791</td>\n",
       "      <td>0.040254</td>\n",
       "    </tr>\n",
       "    <tr>\n",
       "      <th>2</th>\n",
       "      <td>False</td>\n",
       "      <td>True</td>\n",
       "      <td>neutral</td>\n",
       "      <td>neutral</td>\n",
       "      <td>-0.413420</td>\n",
       "      <td>8</td>\n",
       "      <td>11.38</td>\n",
       "      <td>38</td>\n",
       "      <td>0.035211</td>\n",
       "      <td>[gt, i, just, extended, for, a, year, verified...</td>\n",
       "      <td>0.005102</td>\n",
       "      <td>0.035714</td>\n",
       "      <td>0.005102</td>\n",
       "      <td>0.025510</td>\n",
       "      <td>0.045918</td>\n",
       "      <td>0.005102</td>\n",
       "      <td>0.045918</td>\n",
       "    </tr>\n",
       "    <tr>\n",
       "      <th>3</th>\n",
       "      <td>False</td>\n",
       "      <td>True</td>\n",
       "      <td>neutral</td>\n",
       "      <td>neutral</td>\n",
       "      <td>-0.880108</td>\n",
       "      <td>2</td>\n",
       "      <td>8.18</td>\n",
       "      <td>12</td>\n",
       "      <td>0.035088</td>\n",
       "      <td>[the, hell, that, many, people, getting, rloun...</td>\n",
       "      <td>0.007692</td>\n",
       "      <td>0.010889</td>\n",
       "      <td>0.000100</td>\n",
       "      <td>0.068831</td>\n",
       "      <td>0.027073</td>\n",
       "      <td>0.015085</td>\n",
       "      <td>0.013686</td>\n",
       "    </tr>\n",
       "    <tr>\n",
       "      <th>4</th>\n",
       "      <td>False</td>\n",
       "      <td>True</td>\n",
       "      <td>positive</td>\n",
       "      <td>positive</td>\n",
       "      <td>3.160947</td>\n",
       "      <td>2</td>\n",
       "      <td>10.09</td>\n",
       "      <td>41</td>\n",
       "      <td>0.043269</td>\n",
       "      <td>[worked, perfectly, im, glad, to, have, given,...</td>\n",
       "      <td>0.001270</td>\n",
       "      <td>0.017361</td>\n",
       "      <td>0.000836</td>\n",
       "      <td>0.007215</td>\n",
       "      <td>0.016621</td>\n",
       "      <td>0.018059</td>\n",
       "      <td>0.013498</td>\n",
       "    </tr>\n",
       "    <tr>\n",
       "      <th>5</th>\n",
       "      <td>False</td>\n",
       "      <td>True</td>\n",
       "      <td>positive</td>\n",
       "      <td>positive</td>\n",
       "      <td>-1.269243</td>\n",
       "      <td>2</td>\n",
       "      <td>7.04</td>\n",
       "      <td>10</td>\n",
       "      <td>0.044444</td>\n",
       "      <td>[this, is, so, bullshit, why, doe, not, anyone...</td>\n",
       "      <td>0.000002</td>\n",
       "      <td>0.000046</td>\n",
       "      <td>0.000736</td>\n",
       "      <td>0.000042</td>\n",
       "      <td>0.000046</td>\n",
       "      <td>0.000553</td>\n",
       "      <td>0.000013</td>\n",
       "    </tr>\n",
       "  </tbody>\n",
       "</table>\n",
       "</div>"
      ],
      "text/plain": [
       "   bigotry  directed sentiment_comment sentiment_topic  \\\n",
       "1    False      True           neutral         neutral   \n",
       "2    False      True           neutral         neutral   \n",
       "3    False      True           neutral         neutral   \n",
       "4    False      True          positive        positive   \n",
       "5    False      True          positive        positive   \n",
       "\n",
       "   overall_sentiment_score  ups    dal  word_count  up_low_ratio  \\\n",
       "1                 0.688598   13   8.38          16      0.045455   \n",
       "2                -0.413420    8  11.38          38      0.035211   \n",
       "3                -0.880108    2   8.18          12      0.035088   \n",
       "4                 3.160947    2  10.09          41      0.043269   \n",
       "5                -1.269243    2   7.04          10      0.044444   \n",
       "\n",
       "                                     text_lemmatized   disgust  surprise  \\\n",
       "1  [yeah, man, back, then, o, is, did, not, need,...  0.015762  0.026123   \n",
       "2  [gt, i, just, extended, for, a, year, verified...  0.005102  0.035714   \n",
       "3  [the, hell, that, many, people, getting, rloun...  0.007692  0.010889   \n",
       "4  [worked, perfectly, im, glad, to, have, given,...  0.001270  0.017361   \n",
       "5  [this, is, so, bullshit, why, doe, not, anyone...  0.000002  0.000046   \n",
       "\n",
       "    neutral     anger       sad     happy      fear  \n",
       "1  0.003467  0.017550  0.032248  0.024791  0.040254  \n",
       "2  0.005102  0.025510  0.045918  0.005102  0.045918  \n",
       "3  0.000100  0.068831  0.027073  0.015085  0.013686  \n",
       "4  0.000836  0.007215  0.016621  0.018059  0.013498  \n",
       "5  0.000736  0.000042  0.000046  0.000553  0.000013  "
      ]
     },
     "execution_count": 69,
     "metadata": {},
     "output_type": "execute_result"
    }
   ],
   "source": [
    "df_post_eda = df_aug.drop(columns=['num_id', 'text', 'subreddit', 'sentcom_c', 'senttop_c', 'author_name', 'uppercase', 'lowercase', 'caps>50', 'directed_c', 'bigotry_c', 'reviewers', 'subreddit_id', 'id', 'emotion_words', 'testan'])"
   ]
  },
  {
   "cell_type": "code",
   "execution_count": 70,
   "id": "adf7b113",
   "metadata": {},
   "outputs": [],
   "source": [
    "df_model_features = df_post_eda.drop(columns=['directed', 'sentiment_comment', 'sentiment_topic', 'overall_sentiment_score'])"
   ]
  },
  {
   "cell_type": "code",
   "execution_count": 71,
   "id": "47ac7ee1",
   "metadata": {},
   "outputs": [
    {
     "data": {
      "text/html": [
       "<div>\n",
       "<style scoped>\n",
       "    .dataframe tbody tr th:only-of-type {\n",
       "        vertical-align: middle;\n",
       "    }\n",
       "\n",
       "    .dataframe tbody tr th {\n",
       "        vertical-align: top;\n",
       "    }\n",
       "\n",
       "    .dataframe thead th {\n",
       "        text-align: right;\n",
       "    }\n",
       "</style>\n",
       "<table border=\"1\" class=\"dataframe\">\n",
       "  <thead>\n",
       "    <tr style=\"text-align: right;\">\n",
       "      <th></th>\n",
       "      <th>bigotry</th>\n",
       "      <th>ups</th>\n",
       "      <th>dal</th>\n",
       "      <th>word_count</th>\n",
       "      <th>up_low_ratio</th>\n",
       "      <th>text_lemmatized</th>\n",
       "      <th>disgust</th>\n",
       "      <th>surprise</th>\n",
       "      <th>neutral</th>\n",
       "      <th>anger</th>\n",
       "      <th>sad</th>\n",
       "      <th>happy</th>\n",
       "      <th>fear</th>\n",
       "    </tr>\n",
       "  </thead>\n",
       "  <tbody>\n",
       "    <tr>\n",
       "      <th>1</th>\n",
       "      <td>False</td>\n",
       "      <td>13</td>\n",
       "      <td>8.38</td>\n",
       "      <td>16</td>\n",
       "      <td>0.045455</td>\n",
       "      <td>[yeah, man, back, then, o, is, did, not, need,...</td>\n",
       "      <td>0.015762</td>\n",
       "      <td>0.026123</td>\n",
       "      <td>0.003467</td>\n",
       "      <td>0.017550</td>\n",
       "      <td>0.032248</td>\n",
       "      <td>0.024791</td>\n",
       "      <td>0.040254</td>\n",
       "    </tr>\n",
       "    <tr>\n",
       "      <th>2</th>\n",
       "      <td>False</td>\n",
       "      <td>8</td>\n",
       "      <td>11.38</td>\n",
       "      <td>38</td>\n",
       "      <td>0.035211</td>\n",
       "      <td>[gt, i, just, extended, for, a, year, verified...</td>\n",
       "      <td>0.005102</td>\n",
       "      <td>0.035714</td>\n",
       "      <td>0.005102</td>\n",
       "      <td>0.025510</td>\n",
       "      <td>0.045918</td>\n",
       "      <td>0.005102</td>\n",
       "      <td>0.045918</td>\n",
       "    </tr>\n",
       "    <tr>\n",
       "      <th>3</th>\n",
       "      <td>False</td>\n",
       "      <td>2</td>\n",
       "      <td>8.18</td>\n",
       "      <td>12</td>\n",
       "      <td>0.035088</td>\n",
       "      <td>[the, hell, that, many, people, getting, rloun...</td>\n",
       "      <td>0.007692</td>\n",
       "      <td>0.010889</td>\n",
       "      <td>0.000100</td>\n",
       "      <td>0.068831</td>\n",
       "      <td>0.027073</td>\n",
       "      <td>0.015085</td>\n",
       "      <td>0.013686</td>\n",
       "    </tr>\n",
       "    <tr>\n",
       "      <th>4</th>\n",
       "      <td>False</td>\n",
       "      <td>2</td>\n",
       "      <td>10.09</td>\n",
       "      <td>41</td>\n",
       "      <td>0.043269</td>\n",
       "      <td>[worked, perfectly, im, glad, to, have, given,...</td>\n",
       "      <td>0.001270</td>\n",
       "      <td>0.017361</td>\n",
       "      <td>0.000836</td>\n",
       "      <td>0.007215</td>\n",
       "      <td>0.016621</td>\n",
       "      <td>0.018059</td>\n",
       "      <td>0.013498</td>\n",
       "    </tr>\n",
       "    <tr>\n",
       "      <th>5</th>\n",
       "      <td>False</td>\n",
       "      <td>2</td>\n",
       "      <td>7.04</td>\n",
       "      <td>10</td>\n",
       "      <td>0.044444</td>\n",
       "      <td>[this, is, so, bullshit, why, doe, not, anyone...</td>\n",
       "      <td>0.000002</td>\n",
       "      <td>0.000046</td>\n",
       "      <td>0.000736</td>\n",
       "      <td>0.000042</td>\n",
       "      <td>0.000046</td>\n",
       "      <td>0.000553</td>\n",
       "      <td>0.000013</td>\n",
       "    </tr>\n",
       "  </tbody>\n",
       "</table>\n",
       "</div>"
      ],
      "text/plain": [
       "   bigotry  ups    dal  word_count  up_low_ratio  \\\n",
       "1    False   13   8.38          16      0.045455   \n",
       "2    False    8  11.38          38      0.035211   \n",
       "3    False    2   8.18          12      0.035088   \n",
       "4    False    2  10.09          41      0.043269   \n",
       "5    False    2   7.04          10      0.044444   \n",
       "\n",
       "                                     text_lemmatized   disgust  surprise  \\\n",
       "1  [yeah, man, back, then, o, is, did, not, need,...  0.015762  0.026123   \n",
       "2  [gt, i, just, extended, for, a, year, verified...  0.005102  0.035714   \n",
       "3  [the, hell, that, many, people, getting, rloun...  0.007692  0.010889   \n",
       "4  [worked, perfectly, im, glad, to, have, given,...  0.001270  0.017361   \n",
       "5  [this, is, so, bullshit, why, doe, not, anyone...  0.000002  0.000046   \n",
       "\n",
       "    neutral     anger       sad     happy      fear  \n",
       "1  0.003467  0.017550  0.032248  0.024791  0.040254  \n",
       "2  0.005102  0.025510  0.045918  0.005102  0.045918  \n",
       "3  0.000100  0.068831  0.027073  0.015085  0.013686  \n",
       "4  0.000836  0.007215  0.016621  0.018059  0.013498  \n",
       "5  0.000736  0.000042  0.000046  0.000553  0.000013  "
      ]
     },
     "execution_count": 71,
     "metadata": {},
     "output_type": "execute_result"
    }
   ],
   "source": [
    "df_model_features.head()"
   ]
  },
  {
   "cell_type": "code",
   "execution_count": 52,
   "id": "98d296b5",
   "metadata": {},
   "outputs": [],
   "source": [
    "df_post_eda.to_csv(r'/Users/michelstahli/Spring 2022 (Bootcamp+)/Jupyter Notebook CSVs/df_post_eda.csv')"
   ]
  },
  {
   "cell_type": "markdown",
   "id": "766b2fc8",
   "metadata": {},
   "source": [
    "## Exploring Features"
   ]
  },
  {
   "cell_type": "code",
   "execution_count": 28,
   "id": "224c9416",
   "metadata": {},
   "outputs": [
    {
     "data": {
      "text/plain": [
       "Text(0.5, 1.0, 'Feature Correlation Heatmap')"
      ]
     },
     "execution_count": 28,
     "metadata": {},
     "output_type": "execute_result"
    },
    {
     "data": {
      "image/png": "[encoded data removed]",
      "text/plain": [
       "<Figure size 432x288 with 2 Axes>"
      ]
     },
     "metadata": {
      "needs_background": "light"
     },
     "output_type": "display_data"
    }
   ],
   "source": [
    "ax = sns.heatmap(df_model_features.corr())\n",
    "ax.set_title('Feature Correlation Heatmap')"
   ]
  },
  {
   "cell_type": "code",
   "execution_count": 29,
   "id": "23e213fa",
   "metadata": {},
   "outputs": [
    {
     "data": {
      "text/html": [
       "<div>\n",
       "<style scoped>\n",
       "    .dataframe tbody tr th:only-of-type {\n",
       "        vertical-align: middle;\n",
       "    }\n",
       "\n",
       "    .dataframe tbody tr th {\n",
       "        vertical-align: top;\n",
       "    }\n",
       "\n",
       "    .dataframe thead th {\n",
       "        text-align: right;\n",
       "    }\n",
       "</style>\n",
       "<table border=\"1\" class=\"dataframe\">\n",
       "  <thead>\n",
       "    <tr style=\"text-align: right;\">\n",
       "      <th></th>\n",
       "      <th>bigotry</th>\n",
       "      <th>ups</th>\n",
       "      <th>dal</th>\n",
       "      <th>word_count</th>\n",
       "      <th>up_low_ratio</th>\n",
       "      <th>disgust</th>\n",
       "      <th>surprise</th>\n",
       "      <th>neutral</th>\n",
       "      <th>anger</th>\n",
       "      <th>sad</th>\n",
       "      <th>happy</th>\n",
       "      <th>fear</th>\n",
       "    </tr>\n",
       "  </thead>\n",
       "  <tbody>\n",
       "    <tr>\n",
       "      <th>bigotry</th>\n",
       "      <td>1.000000</td>\n",
       "      <td>0.013233</td>\n",
       "      <td>-0.009064</td>\n",
       "      <td>-0.000094</td>\n",
       "      <td>0.008555</td>\n",
       "      <td>-0.002404</td>\n",
       "      <td>0.014907</td>\n",
       "      <td>-0.043054</td>\n",
       "      <td>0.089326</td>\n",
       "      <td>0.105283</td>\n",
       "      <td>-0.053634</td>\n",
       "      <td>-0.035209</td>\n",
       "    </tr>\n",
       "    <tr>\n",
       "      <th>ups</th>\n",
       "      <td>0.013233</td>\n",
       "      <td>1.000000</td>\n",
       "      <td>0.005714</td>\n",
       "      <td>-0.001845</td>\n",
       "      <td>0.054906</td>\n",
       "      <td>-0.007463</td>\n",
       "      <td>0.019286</td>\n",
       "      <td>-0.001794</td>\n",
       "      <td>0.027751</td>\n",
       "      <td>0.014668</td>\n",
       "      <td>0.007973</td>\n",
       "      <td>0.014606</td>\n",
       "    </tr>\n",
       "    <tr>\n",
       "      <th>dal</th>\n",
       "      <td>-0.009064</td>\n",
       "      <td>0.005714</td>\n",
       "      <td>1.000000</td>\n",
       "      <td>-0.061971</td>\n",
       "      <td>0.066917</td>\n",
       "      <td>0.033859</td>\n",
       "      <td>0.057255</td>\n",
       "      <td>0.015570</td>\n",
       "      <td>0.008348</td>\n",
       "      <td>0.005658</td>\n",
       "      <td>0.002911</td>\n",
       "      <td>0.003956</td>\n",
       "    </tr>\n",
       "    <tr>\n",
       "      <th>word_count</th>\n",
       "      <td>-0.000094</td>\n",
       "      <td>-0.001845</td>\n",
       "      <td>-0.061971</td>\n",
       "      <td>1.000000</td>\n",
       "      <td>-0.069231</td>\n",
       "      <td>0.050580</td>\n",
       "      <td>-0.036361</td>\n",
       "      <td>-0.021289</td>\n",
       "      <td>0.013328</td>\n",
       "      <td>-0.014469</td>\n",
       "      <td>-0.044902</td>\n",
       "      <td>0.054848</td>\n",
       "    </tr>\n",
       "    <tr>\n",
       "      <th>up_low_ratio</th>\n",
       "      <td>0.008555</td>\n",
       "      <td>0.054906</td>\n",
       "      <td>0.066917</td>\n",
       "      <td>-0.069231</td>\n",
       "      <td>1.000000</td>\n",
       "      <td>0.005058</td>\n",
       "      <td>0.025620</td>\n",
       "      <td>0.047868</td>\n",
       "      <td>0.030071</td>\n",
       "      <td>-0.011100</td>\n",
       "      <td>0.041872</td>\n",
       "      <td>-0.016366</td>\n",
       "    </tr>\n",
       "    <tr>\n",
       "      <th>disgust</th>\n",
       "      <td>-0.002404</td>\n",
       "      <td>-0.007463</td>\n",
       "      <td>0.033859</td>\n",
       "      <td>0.050580</td>\n",
       "      <td>0.005058</td>\n",
       "      <td>1.000000</td>\n",
       "      <td>0.045895</td>\n",
       "      <td>0.166763</td>\n",
       "      <td>0.204457</td>\n",
       "      <td>0.173039</td>\n",
       "      <td>-0.000925</td>\n",
       "      <td>0.164041</td>\n",
       "    </tr>\n",
       "    <tr>\n",
       "      <th>surprise</th>\n",
       "      <td>0.014907</td>\n",
       "      <td>0.019286</td>\n",
       "      <td>0.057255</td>\n",
       "      <td>-0.036361</td>\n",
       "      <td>0.025620</td>\n",
       "      <td>0.045895</td>\n",
       "      <td>1.000000</td>\n",
       "      <td>-0.012499</td>\n",
       "      <td>-0.063253</td>\n",
       "      <td>0.113595</td>\n",
       "      <td>0.022056</td>\n",
       "      <td>0.044273</td>\n",
       "    </tr>\n",
       "    <tr>\n",
       "      <th>neutral</th>\n",
       "      <td>-0.043054</td>\n",
       "      <td>-0.001794</td>\n",
       "      <td>0.015570</td>\n",
       "      <td>-0.021289</td>\n",
       "      <td>0.047868</td>\n",
       "      <td>0.166763</td>\n",
       "      <td>-0.012499</td>\n",
       "      <td>1.000000</td>\n",
       "      <td>-0.098099</td>\n",
       "      <td>-0.015765</td>\n",
       "      <td>0.244205</td>\n",
       "      <td>0.021573</td>\n",
       "    </tr>\n",
       "    <tr>\n",
       "      <th>anger</th>\n",
       "      <td>0.089326</td>\n",
       "      <td>0.027751</td>\n",
       "      <td>0.008348</td>\n",
       "      <td>0.013328</td>\n",
       "      <td>0.030071</td>\n",
       "      <td>0.204457</td>\n",
       "      <td>-0.063253</td>\n",
       "      <td>-0.098099</td>\n",
       "      <td>1.000000</td>\n",
       "      <td>0.277277</td>\n",
       "      <td>-0.151092</td>\n",
       "      <td>0.043372</td>\n",
       "    </tr>\n",
       "    <tr>\n",
       "      <th>sad</th>\n",
       "      <td>0.105283</td>\n",
       "      <td>0.014668</td>\n",
       "      <td>0.005658</td>\n",
       "      <td>-0.014469</td>\n",
       "      <td>-0.011100</td>\n",
       "      <td>0.173039</td>\n",
       "      <td>0.113595</td>\n",
       "      <td>-0.015765</td>\n",
       "      <td>0.277277</td>\n",
       "      <td>1.000000</td>\n",
       "      <td>-0.091993</td>\n",
       "      <td>0.143047</td>\n",
       "    </tr>\n",
       "    <tr>\n",
       "      <th>happy</th>\n",
       "      <td>-0.053634</td>\n",
       "      <td>0.007973</td>\n",
       "      <td>0.002911</td>\n",
       "      <td>-0.044902</td>\n",
       "      <td>0.041872</td>\n",
       "      <td>-0.000925</td>\n",
       "      <td>0.022056</td>\n",
       "      <td>0.244205</td>\n",
       "      <td>-0.151092</td>\n",
       "      <td>-0.091993</td>\n",
       "      <td>1.000000</td>\n",
       "      <td>-0.019950</td>\n",
       "    </tr>\n",
       "    <tr>\n",
       "      <th>fear</th>\n",
       "      <td>-0.035209</td>\n",
       "      <td>0.014606</td>\n",
       "      <td>0.003956</td>\n",
       "      <td>0.054848</td>\n",
       "      <td>-0.016366</td>\n",
       "      <td>0.164041</td>\n",
       "      <td>0.044273</td>\n",
       "      <td>0.021573</td>\n",
       "      <td>0.043372</td>\n",
       "      <td>0.143047</td>\n",
       "      <td>-0.019950</td>\n",
       "      <td>1.000000</td>\n",
       "    </tr>\n",
       "  </tbody>\n",
       "</table>\n",
       "</div>"
      ],
      "text/plain": [
       "               bigotry       ups       dal  word_count  up_low_ratio  \\\n",
       "bigotry       1.000000  0.013233 -0.009064   -0.000094      0.008555   \n",
       "ups           0.013233  1.000000  0.005714   -0.001845      0.054906   \n",
       "dal          -0.009064  0.005714  1.000000   -0.061971      0.066917   \n",
       "word_count   -0.000094 -0.001845 -0.061971    1.000000     -0.069231   \n",
       "up_low_ratio  0.008555  0.054906  0.066917   -0.069231      1.000000   \n",
       "disgust      -0.002404 -0.007463  0.033859    0.050580      0.005058   \n",
       "surprise      0.014907  0.019286  0.057255   -0.036361      0.025620   \n",
       "neutral      -0.043054 -0.001794  0.015570   -0.021289      0.047868   \n",
       "anger         0.089326  0.027751  0.008348    0.013328      0.030071   \n",
       "sad           0.105283  0.014668  0.005658   -0.014469     -0.011100   \n",
       "happy        -0.053634  0.007973  0.002911   -0.044902      0.041872   \n",
       "fear         -0.035209  0.014606  0.003956    0.054848     -0.016366   \n",
       "\n",
       "               disgust  surprise   neutral     anger       sad     happy  \\\n",
       "bigotry      -0.002404  0.014907 -0.043054  0.089326  0.105283 -0.053634   \n",
       "ups          -0.007463  0.019286 -0.001794  0.027751  0.014668  0.007973   \n",
       "dal           0.033859  0.057255  0.015570  0.008348  0.005658  0.002911   \n",
       "word_count    0.050580 -0.036361 -0.021289  0.013328 -0.014469 -0.044902   \n",
       "up_low_ratio  0.005058  0.025620  0.047868  0.030071 -0.011100  0.041872   \n",
       "disgust       1.000000  0.045895  0.166763  0.204457  0.173039 -0.000925   \n",
       "surprise      0.045895  1.000000 -0.012499 -0.063253  0.113595  0.022056   \n",
       "neutral       0.166763 -0.012499  1.000000 -0.098099 -0.015765  0.244205   \n",
       "anger         0.204457 -0.063253 -0.098099  1.000000  0.277277 -0.151092   \n",
       "sad           0.173039  0.113595 -0.015765  0.277277  1.000000 -0.091993   \n",
       "happy        -0.000925  0.022056  0.244205 -0.151092 -0.091993  1.000000   \n",
       "fear          0.164041  0.044273  0.021573  0.043372  0.143047 -0.019950   \n",
       "\n",
       "                  fear  \n",
       "bigotry      -0.035209  \n",
       "ups           0.014606  \n",
       "dal           0.003956  \n",
       "word_count    0.054848  \n",
       "up_low_ratio -0.016366  \n",
       "disgust       0.164041  \n",
       "surprise      0.044273  \n",
       "neutral       0.021573  \n",
       "anger         0.043372  \n",
       "sad           0.143047  \n",
       "happy        -0.019950  \n",
       "fear          1.000000  "
      ]
     },
     "execution_count": 29,
     "metadata": {},
     "output_type": "execute_result"
    }
   ],
   "source": [
    "df_model_features.corr()\n"
   ]
  },
  {
   "cell_type": "code",
   "execution_count": 30,
   "id": "aeb5ac6d",
   "metadata": {},
   "outputs": [
    {
     "data": {
      "text/plain": [
       "disgust     0.107535\n",
       "surprise    0.135056\n",
       "neutral     0.035714\n",
       "anger       0.134997\n",
       "sad         0.109788\n",
       "happy       0.137363\n",
       "fear        0.140538\n",
       "dtype: float64"
      ]
     },
     "execution_count": 30,
     "metadata": {},
     "output_type": "execute_result"
    }
   ],
   "source": [
    "df_model_features[['disgust', 'surprise', 'neutral', 'anger', 'sad',\n",
    "       'happy', 'fear']].max()"
   ]
  },
  {
   "cell_type": "code",
   "execution_count": 31,
   "id": "c2119105",
   "metadata": {},
   "outputs": [
    {
     "data": {
      "text/plain": [
       "bigotry            0.000000\n",
       "ups                0.000000\n",
       "dal                0.000000\n",
       "word_count         0.000000\n",
       "up_low_ratio       0.000336\n",
       "text_lemmatized    0.000000\n",
       "disgust            0.209076\n",
       "surprise           0.209076\n",
       "neutral            0.209076\n",
       "anger              0.209076\n",
       "sad                0.209076\n",
       "happy              0.209076\n",
       "fear               0.209076\n",
       "dtype: float64"
      ]
     },
     "execution_count": 31,
     "metadata": {},
     "output_type": "execute_result"
    }
   ],
   "source": [
    "(df_model_features.isna().sum())/df_model_features.shape[0]"
   ]
  },
  {
   "cell_type": "code",
   "execution_count": 32,
   "id": "46a95e2c",
   "metadata": {},
   "outputs": [],
   "source": [
    "'''df_model_features[['disgust', 'surprise', 'neutral', 'anger', 'sad',\n",
    "       'happy', 'fear']] = df_model_features[['disgust', 'surprise', 'neutral', 'anger', 'sad',\n",
    "       'happy', 'fear']].fillna(0)'''"
   ]
  },
  {
   "cell_type": "code",
   "execution_count": 72,
   "id": "4249b599",
   "metadata": {},
   "outputs": [
    {
     "data": {
      "image/png": "[encoded data removed]",
      "text/plain": [
       "<Figure size 432x288 with 1 Axes>"
      ]
     },
     "metadata": {
      "needs_background": "light"
     },
     "output_type": "display_data"
    }
   ],
   "source": [
    "boxy = sns.boxplot(data=df_model_features[['disgust', 'surprise', 'neutral', 'anger', 'sad',\n",
    "       'happy', 'fear']])\n",
    "boxy.set_title('Emotion Sensor Features Boxplot')\n",
    "boxy.set_ylabel('Score')\n",
    "plt.show()"
   ]
  },
  {
   "cell_type": "code",
   "execution_count": 81,
   "id": "ebe8eb8d",
   "metadata": {},
   "outputs": [
    {
     "data": {
      "image/png": "[encoded data removed]",
      "text/plain": [
       "<Figure size 432x288 with 1 Axes>"
      ]
     },
     "metadata": {
      "needs_background": "light"
     },
     "output_type": "display_data"
    }
   ],
   "source": [
    "longer = pd.melt(df_model_features[['surprise', 'anger', 'sad',\n",
    "       'happy', 'fear', 'bigotry']], id_vars=['bigotry'], value_vars=['surprise', 'anger', 'sad',\n",
    "       'happy', 'fear'])\n",
    "longer = longer.rename(columns={'variable':'emotion'})\n",
    "\n",
    "long = sns.boxplot(data=longer, x='emotion', y='value', hue='bigotry')\n",
    "long.set_title('Emotion Score Boxplot by Bigotry, Imputing Zero')\n",
    "long.legend(loc='upper right')\n",
    "plt.show()"
   ]
  },
  {
   "cell_type": "code",
   "execution_count": 35,
   "id": "1b9e5110",
   "metadata": {},
   "outputs": [
    {
     "name": "stdout",
     "output_type": "stream",
     "text": [
      "451.17\n"
     ]
    },
    {
     "data": {
      "image/png": "[encoded data removed]",
      "text/plain": [
       "<Figure size 432x288 with 1 Axes>"
      ]
     },
     "metadata": {
      "needs_background": "light"
     },
     "output_type": "display_data"
    }
   ],
   "source": [
    "sns.histplot(df_model_features['dal'])\n",
    "print(df_model_features['dal'].max())"
   ]
  },
  {
   "cell_type": "code",
   "execution_count": 36,
   "id": "71f42066",
   "metadata": {},
   "outputs": [
    {
     "data": {
      "text/plain": [
       "(26, 13)"
      ]
     },
     "execution_count": 36,
     "metadata": {},
     "output_type": "execute_result"
    }
   ],
   "source": [
    "large_dal = df_model_features[df_model_features['dal']>100]\n",
    "small_dal = df_model_features[df_model_features['dal']<=100]\n",
    "large_dal.shape"
   ]
  },
  {
   "cell_type": "code",
   "execution_count": 37,
   "id": "35408193",
   "metadata": {},
   "outputs": [
    {
     "data": {
      "text/plain": [
       "<AxesSubplot:xlabel='dal', ylabel='Count'>"
      ]
     },
     "execution_count": 37,
     "metadata": {},
     "output_type": "execute_result"
    },
    {
     "data": {
      "image/png": "[encoded data removed]",
      "text/plain": [
       "<Figure size 432x288 with 1 Axes>"
      ]
     },
     "metadata": {
      "needs_background": "light"
     },
     "output_type": "display_data"
    }
   ],
   "source": [
    "sns.histplot(small_dal['dal'])"
   ]
  },
  {
   "cell_type": "code",
   "execution_count": 39,
   "id": "eb4c64de",
   "metadata": {},
   "outputs": [
    {
     "data": {
      "text/plain": [
       "MannwhitneyuResult(statistic=3099394.5, pvalue=5.460122531602824e-43)"
      ]
     },
     "execution_count": 39,
     "metadata": {},
     "output_type": "execute_result"
    }
   ],
   "source": [
    "from scipy.stats import mannwhitneyu\n",
    "yes = df_model_features[df_model_features['bigotry']==True]\n",
    "no = df_model_features[df_model_features['bigotry']==False]\n",
    "\n",
    "mannwhitneyu(yes['anger'], no['anger'])"
   ]
  },
  {
   "cell_type": "code",
   "execution_count": 40,
   "id": "4de20b27",
   "metadata": {},
   "outputs": [
    {
     "data": {
      "text/plain": [
       "<AxesSubplot:>"
      ]
     },
     "execution_count": 40,
     "metadata": {},
     "output_type": "execute_result"
    },
    {
     "data": {
      "image/png": "[encoded data removed]",
      "text/plain": [
       "<Figure size 432x288 with 1 Axes>"
      ]
     },
     "metadata": {
      "needs_background": "light"
     },
     "output_type": "display_data"
    }
   ],
   "source": [
    "pivot_emotions = pd.pivot_table(df_model_features[['disgust', 'surprise', 'neutral', 'anger', 'sad',\n",
    "       'happy', 'fear', 'bigotry']], columns='bigotry')  \n",
    "pivot_emotions\n",
    "\n",
    "pivot_emotions.plot(kind='bar')"
   ]
  },
  {
   "cell_type": "markdown",
   "id": "b2380ec7",
   "metadata": {},
   "source": [
    "# Naive Bayes for Predictive Words"
   ]
  },
  {
   "cell_type": "code",
   "execution_count": 44,
   "id": "eda550f7",
   "metadata": {},
   "outputs": [],
   "source": [
    "from sklearn.feature_extraction.text import CountVectorizer\n",
    "from sklearn.model_selection import GridSearchCV\n",
    "from sklearn.pipeline import Pipeline\n",
    "from sklearn.model_selection import train_test_split\n",
    "from sklearn.naive_bayes import MultinomialNB\n",
    "from sklearn.metrics import precision_score, recall_score, classification_report\n"
   ]
  },
  {
   "cell_type": "code",
   "execution_count": 44,
   "id": "5e380fd7",
   "metadata": {},
   "outputs": [],
   "source": [
    "y = (df_post_eda['bigotry'] == True).values.astype(int)\n",
    "X = df_post_eda['text_lemmatized']"
   ]
  },
  {
   "cell_type": "code",
   "execution_count": 45,
   "id": "3c1135e5",
   "metadata": {},
   "outputs": [],
   "source": [
    "X_train, X_test, y_train, y_test = train_test_split(X, y, test_size=0.2, random_state=26, stratify=y)"
   ]
  },
  {
   "cell_type": "code",
   "execution_count": 46,
   "id": "23eec779",
   "metadata": {},
   "outputs": [
    {
     "data": {
      "text/plain": [
       "2013    [traveling, first, down, kicking, the, chop, b...\n",
       "8374    [if, this, dude, said, any, of, this, in, a, l...\n",
       "4263    [of, cheese, for, what, is, over, of, food, do...\n",
       "2674    [what, make, them, child, is, movie, the, scif...\n",
       "4921    [because, i, did, not, take, a, position, i, h...\n",
       "Name: text_lemmatized, dtype: object"
      ]
     },
     "execution_count": 46,
     "metadata": {},
     "output_type": "execute_result"
    }
   ],
   "source": [
    "X_train.head()"
   ]
  },
  {
   "cell_type": "code",
   "execution_count": 103,
   "id": "69d3f57a",
   "metadata": {},
   "outputs": [],
   "source": [
    "vectorizer = CountVectorizer(min_df=3, max_df=0.8, analyzer=lambda x:x)\n",
    "X_vec = vectorizer.fit_transform(X_train)\n",
    "\n",
    "model = MultinomialNB()\n",
    "model.fit(X_vec, y_train)\n",
    "x_test_eye = np.eye(X_vec.shape[1])\n",
    "predicted = model.predict_log_proba(x_test_eye)[:,0]\n",
    "df = zip(vectorizer.get_feature_names_out(), 1 - np.exp(predicted))\n",
    "list_of_tuples = list(df)\n",
    "df = pd.DataFrame(list_of_tuples, columns = ['word', 'probability'])\n",
    "df = df.round(decimals=4)"
   ]
  },
  {
   "cell_type": "code",
   "execution_count": 104,
   "id": "aed94582",
   "metadata": {},
   "outputs": [
    {
     "data": {
      "text/plain": [
       "(7140,)"
      ]
     },
     "execution_count": 104,
     "metadata": {},
     "output_type": "execute_result"
    }
   ],
   "source": [
    "X_train.shape"
   ]
  },
  {
   "cell_type": "code",
   "execution_count": 105,
   "id": "cd1f68c1",
   "metadata": {
    "scrolled": false
   },
   "outputs": [
    {
     "data": {
      "text/html": [
       "<div>\n",
       "<style scoped>\n",
       "    .dataframe tbody tr th:only-of-type {\n",
       "        vertical-align: middle;\n",
       "    }\n",
       "\n",
       "    .dataframe tbody tr th {\n",
       "        vertical-align: top;\n",
       "    }\n",
       "\n",
       "    .dataframe thead th {\n",
       "        text-align: right;\n",
       "    }\n",
       "</style>\n",
       "<table border=\"1\" class=\"dataframe\">\n",
       "  <thead>\n",
       "    <tr style=\"text-align: right;\">\n",
       "      <th></th>\n",
       "      <th>word</th>\n",
       "      <th>probability</th>\n",
       "    </tr>\n",
       "  </thead>\n",
       "  <tbody>\n",
       "    <tr>\n",
       "      <th>1825</th>\n",
       "      <td>gem</td>\n",
       "      <td>0.0020</td>\n",
       "    </tr>\n",
       "    <tr>\n",
       "      <th>1863</th>\n",
       "      <td>glass</td>\n",
       "      <td>0.0052</td>\n",
       "    </tr>\n",
       "    <tr>\n",
       "      <th>4418</th>\n",
       "      <td>thank</td>\n",
       "      <td>0.0056</td>\n",
       "    </tr>\n",
       "    <tr>\n",
       "      <th>2502</th>\n",
       "      <td>le</td>\n",
       "      <td>0.0080</td>\n",
       "    </tr>\n",
       "    <tr>\n",
       "      <th>1605</th>\n",
       "      <td>favorite</td>\n",
       "      <td>0.0084</td>\n",
       "    </tr>\n",
       "    <tr>\n",
       "      <th>2973</th>\n",
       "      <td>nope</td>\n",
       "      <td>0.0087</td>\n",
       "    </tr>\n",
       "    <tr>\n",
       "      <th>2421</th>\n",
       "      <td>keyboard</td>\n",
       "      <td>0.0090</td>\n",
       "    </tr>\n",
       "    <tr>\n",
       "      <th>2801</th>\n",
       "      <td>minute</td>\n",
       "      <td>0.0095</td>\n",
       "    </tr>\n",
       "    <tr>\n",
       "      <th>4047</th>\n",
       "      <td>small</td>\n",
       "      <td>0.0096</td>\n",
       "    </tr>\n",
       "    <tr>\n",
       "      <th>4116</th>\n",
       "      <td>sound</td>\n",
       "      <td>0.0106</td>\n",
       "    </tr>\n",
       "    <tr>\n",
       "      <th>408</th>\n",
       "      <td>before</td>\n",
       "      <td>0.0107</td>\n",
       "    </tr>\n",
       "    <tr>\n",
       "      <th>2952</th>\n",
       "      <td>nice</td>\n",
       "      <td>0.0108</td>\n",
       "    </tr>\n",
       "    <tr>\n",
       "      <th>3997</th>\n",
       "      <td>since</td>\n",
       "      <td>0.0112</td>\n",
       "    </tr>\n",
       "    <tr>\n",
       "      <th>4690</th>\n",
       "      <td>used</td>\n",
       "      <td>0.0119</td>\n",
       "    </tr>\n",
       "    <tr>\n",
       "      <th>4883</th>\n",
       "      <td>wish</td>\n",
       "      <td>0.0120</td>\n",
       "    </tr>\n",
       "  </tbody>\n",
       "</table>\n",
       "</div>"
      ],
      "text/plain": [
       "          word  probability\n",
       "1825       gem       0.0020\n",
       "1863     glass       0.0052\n",
       "4418     thank       0.0056\n",
       "2502        le       0.0080\n",
       "1605  favorite       0.0084\n",
       "2973      nope       0.0087\n",
       "2421  keyboard       0.0090\n",
       "2801    minute       0.0095\n",
       "4047     small       0.0096\n",
       "4116     sound       0.0106\n",
       "408     before       0.0107\n",
       "2952      nice       0.0108\n",
       "3997     since       0.0112\n",
       "4690      used       0.0119\n",
       "4883      wish       0.0120"
      ]
     },
     "execution_count": 105,
     "metadata": {},
     "output_type": "execute_result"
    }
   ],
   "source": [
    "df.sort_values(by=['probability'], inplace=True)\n",
    "df.head(15)"
   ]
  },
  {
   "cell_type": "code",
   "execution_count": 106,
   "id": "a62f1a5a",
   "metadata": {},
   "outputs": [
    {
     "data": {
      "text/html": [
       "<div>\n",
       "<style scoped>\n",
       "    .dataframe tbody tr th:only-of-type {\n",
       "        vertical-align: middle;\n",
       "    }\n",
       "\n",
       "    .dataframe tbody tr th {\n",
       "        vertical-align: top;\n",
       "    }\n",
       "\n",
       "    .dataframe thead th {\n",
       "        text-align: right;\n",
       "    }\n",
       "</style>\n",
       "<table border=\"1\" class=\"dataframe\">\n",
       "  <thead>\n",
       "    <tr style=\"text-align: right;\">\n",
       "      <th></th>\n",
       "      <th>word</th>\n",
       "      <th>probability</th>\n",
       "    </tr>\n",
       "  </thead>\n",
       "  <tbody>\n",
       "    <tr>\n",
       "      <th>1570</th>\n",
       "      <td>faggot</td>\n",
       "      <td>0.8792</td>\n",
       "    </tr>\n",
       "    <tr>\n",
       "      <th>2954</th>\n",
       "      <td>nigga</td>\n",
       "      <td>0.8675</td>\n",
       "    </tr>\n",
       "    <tr>\n",
       "      <th>2955</th>\n",
       "      <td>nigger</td>\n",
       "      <td>0.8359</td>\n",
       "    </tr>\n",
       "    <tr>\n",
       "      <th>450</th>\n",
       "      <td>bigoted</td>\n",
       "      <td>0.7443</td>\n",
       "    </tr>\n",
       "    <tr>\n",
       "      <th>2804</th>\n",
       "      <td>misogynistic</td>\n",
       "      <td>0.7443</td>\n",
       "    </tr>\n",
       "    <tr>\n",
       "      <th>10</th>\n",
       "      <td>aboriginal</td>\n",
       "      <td>0.7443</td>\n",
       "    </tr>\n",
       "    <tr>\n",
       "      <th>3195</th>\n",
       "      <td>penis</td>\n",
       "      <td>0.7081</td>\n",
       "    </tr>\n",
       "    <tr>\n",
       "      <th>2855</th>\n",
       "      <td>motherfucker</td>\n",
       "      <td>0.6599</td>\n",
       "    </tr>\n",
       "    <tr>\n",
       "      <th>1821</th>\n",
       "      <td>gay</td>\n",
       "      <td>0.6359</td>\n",
       "    </tr>\n",
       "    <tr>\n",
       "      <th>1042</th>\n",
       "      <td>cunt</td>\n",
       "      <td>0.6335</td>\n",
       "    </tr>\n",
       "    <tr>\n",
       "      <th>288</th>\n",
       "      <td>atheist</td>\n",
       "      <td>0.5927</td>\n",
       "    </tr>\n",
       "    <tr>\n",
       "      <th>4045</th>\n",
       "      <td>slut</td>\n",
       "      <td>0.5927</td>\n",
       "    </tr>\n",
       "    <tr>\n",
       "      <th>2856</th>\n",
       "      <td>motherfucking</td>\n",
       "      <td>0.5927</td>\n",
       "    </tr>\n",
       "    <tr>\n",
       "      <th>2111</th>\n",
       "      <td>homophobic</td>\n",
       "      <td>0.5927</td>\n",
       "    </tr>\n",
       "    <tr>\n",
       "      <th>614</th>\n",
       "      <td>butthurt</td>\n",
       "      <td>0.5927</td>\n",
       "    </tr>\n",
       "  </tbody>\n",
       "</table>\n",
       "</div>"
      ],
      "text/plain": [
       "               word  probability\n",
       "1570         faggot       0.8792\n",
       "2954          nigga       0.8675\n",
       "2955         nigger       0.8359\n",
       "450         bigoted       0.7443\n",
       "2804   misogynistic       0.7443\n",
       "10       aboriginal       0.7443\n",
       "3195          penis       0.7081\n",
       "2855   motherfucker       0.6599\n",
       "1821            gay       0.6359\n",
       "1042           cunt       0.6335\n",
       "288         atheist       0.5927\n",
       "4045           slut       0.5927\n",
       "2856  motherfucking       0.5927\n",
       "2111     homophobic       0.5927\n",
       "614        butthurt       0.5927"
      ]
     },
     "execution_count": 106,
     "metadata": {},
     "output_type": "execute_result"
    }
   ],
   "source": [
    "df.sort_values(by=['probability'], ascending=False, inplace=True)\n",
    "df.head(15)"
   ]
  },
  {
   "cell_type": "code",
   "execution_count": 60,
   "id": "6b51c92e",
   "metadata": {},
   "outputs": [
    {
     "data": {
      "text/plain": [
       "<7140x307 sparse matrix of type '<class 'numpy.int64'>'\n",
       "\twith 102276 stored elements in Compressed Sparse Row format>"
      ]
     },
     "execution_count": 60,
     "metadata": {},
     "output_type": "execute_result"
    }
   ],
   "source": [
    "X_vec"
   ]
  },
  {
   "cell_type": "markdown",
   "id": "f6c9cd3c",
   "metadata": {},
   "source": [
    "## Emotion Sensor Feature Ranking with Random Forest"
   ]
  },
  {
   "cell_type": "code",
   "execution_count": 41,
   "id": "fda7a640",
   "metadata": {},
   "outputs": [],
   "source": [
    "from sklearn.ensemble import RandomForestClassifier\n",
    "from sklearn.metrics import precision_score, recall_score, classification_report, confusion_matrix, ConfusionMatrixDisplay, matthews_corrcoef, make_scorer, roc_auc_score, roc_curve, PrecisionRecallDisplay\n",
    "from sklearn.model_selection import GridSearchCV\n",
    "from sklearn.pipeline import Pipeline"
   ]
  },
  {
   "cell_type": "markdown",
   "id": "c1b65d46",
   "metadata": {},
   "source": [
    "Only choose comments with emotion sensor words "
   ]
  },
  {
   "cell_type": "code",
   "execution_count": 45,
   "id": "c2b47ab4",
   "metadata": {},
   "outputs": [],
   "source": [
    "df_post_edas = df_post_eda.dropna()\n",
    "y = (df_post_edas['bigotry'] == True).values.astype(int)\n",
    "X = df_post_edas[['disgust', 'surprise', 'neutral', 'anger', 'sad',\n",
    "       'happy', 'fear']]"
   ]
  },
  {
   "cell_type": "code",
   "execution_count": 46,
   "id": "2eb662f0",
   "metadata": {},
   "outputs": [],
   "source": [
    "X_trainE, X_testE, y_trainE, y_testE = train_test_split(X, y, test_size=0.2, random_state=26, stratify=y)"
   ]
  },
  {
   "cell_type": "code",
   "execution_count": 124,
   "id": "e0d9e8f5",
   "metadata": {},
   "outputs": [
    {
     "name": "stdout",
     "output_type": "stream",
     "text": [
      "For ROC AUC \n",
      "\n",
      "Accuracy: 0.6877275671811827\n",
      "              precision    recall  f1-score   support\n",
      "\n",
      "           0       0.92      1.00      0.96      1006\n",
      "           1       0.00      0.00      0.00        89\n",
      "\n",
      "    accuracy                           0.92      1095\n",
      "   macro avg       0.46      0.50      0.48      1095\n",
      "weighted avg       0.84      0.92      0.88      1095\n",
      "\n",
      "Tuned Model Parameters: {'criterion': 'gini', 'max_depth': 5, 'max_features': None, 'n_estimators': 10}\n",
      "Matthew Corr: 0.0\n",
      "ROC AUC score: 0.6877275671811827\n"
     ]
    },
    {
     "name": "stderr",
     "output_type": "stream",
     "text": [
      "/Users/michelstahli/opt/anaconda3/lib/python3.9/site-packages/sklearn/metrics/_classification.py:1327: UndefinedMetricWarning: Precision and F-score are ill-defined and being set to 0.0 in labels with no predicted samples. Use `zero_division` parameter to control this behavior.\n",
      "  _warn_prf(average, modifier, msg_start, len(result))\n",
      "/Users/michelstahli/opt/anaconda3/lib/python3.9/site-packages/sklearn/metrics/_classification.py:1327: UndefinedMetricWarning: Precision and F-score are ill-defined and being set to 0.0 in labels with no predicted samples. Use `zero_division` parameter to control this behavior.\n",
      "  _warn_prf(average, modifier, msg_start, len(result))\n",
      "/Users/michelstahli/opt/anaconda3/lib/python3.9/site-packages/sklearn/metrics/_classification.py:1327: UndefinedMetricWarning: Precision and F-score are ill-defined and being set to 0.0 in labels with no predicted samples. Use `zero_division` parameter to control this behavior.\n",
      "  _warn_prf(average, modifier, msg_start, len(result))\n"
     ]
    },
    {
     "data": {
      "image/png": "[encoded data removed]",
      "text/plain": [
       "<Figure size 432x288 with 2 Axes>"
      ]
     },
     "metadata": {
      "needs_background": "light"
     },
     "output_type": "display_data"
    }
   ],
   "source": [
    "#GridSearch\n",
    "fclassifier = RandomForestClassifier(random_state=26)\n",
    "\n",
    "\n",
    "parameter_grid = {\n",
    "                    'criterion': [\"gini\", \"entropy\", \"log_loss\"],\n",
    "                    'max_depth': [3, 5, 10, 15],\n",
    "                    'n_estimators': [10, 15, 50, 100],\n",
    "                    'max_features': [None]\n",
    "                \n",
    "                    }\n",
    "fcv = GridSearchCV(fclassifier, parameter_grid, scoring='roc_auc', error_score='raise', cv=4)\n",
    "fcv.fit(X_trainE, y=y_trainE)\n",
    "\n",
    "# Predict the labels of the test set: y_pred\n",
    "fy_pred = fcv.predict(X_testE)\n",
    "\n",
    "fcm = confusion_matrix(y_testE, fy_pred, labels=fcv.classes_)\n",
    "# Compute and print metrics\n",
    "print('For ROC AUC','\\n')\n",
    "print(\"Accuracy: {}\".format(fcv.score(X_testE, y_testE)))\n",
    "print(classification_report(y_testE, fy_pred))\n",
    "print(\"Tuned Model Parameters: {}\".format(fcv.best_params_))\n",
    "print('Matthew Corr:', matthews_corrcoef(y_testE, fy_pred))\n",
    "print('ROC AUC score:',roc_auc_score(y_testE, fcv.predict_proba(X_testE)[:, 1]))\n",
    "fdisp = ConfusionMatrixDisplay(fcm, display_labels=fcv.classes_)\n",
    "fdisp.plot()\n",
    "plt.show()"
   ]
  },
  {
   "cell_type": "code",
   "execution_count": 47,
   "id": "2018797d",
   "metadata": {},
   "outputs": [
    {
     "data": {
      "text/html": [
       "<style>#sk-container-id-1 {color: black;background-color: white;}#sk-container-id-1 pre{padding: 0;}#sk-container-id-1 div.sk-toggleable {background-color: white;}#sk-container-id-1 label.sk-toggleable__label {cursor: pointer;display: block;width: 100%;margin-bottom: 0;padding: 0.3em;box-sizing: border-box;text-align: center;}#sk-container-id-1 label.sk-toggleable__label-arrow:before {content: \"▸\";float: left;margin-right: 0.25em;color: #696969;}#sk-container-id-1 label.sk-toggleable__label-arrow:hover:before {color: black;}#sk-container-id-1 div.sk-estimator:hover label.sk-toggleable__label-arrow:before {color: black;}#sk-container-id-1 div.sk-toggleable__content {max-height: 0;max-width: 0;overflow: hidden;text-align: left;background-color: #f0f8ff;}#sk-container-id-1 div.sk-toggleable__content pre {margin: 0.2em;color: black;border-radius: 0.25em;background-color: #f0f8ff;}#sk-container-id-1 input.sk-toggleable__control:checked~div.sk-toggleable__content {max-height: 200px;max-width: 100%;overflow: auto;}#sk-container-id-1 input.sk-toggleable__control:checked~label.sk-toggleable__label-arrow:before {content: \"▾\";}#sk-container-id-1 div.sk-estimator input.sk-toggleable__control:checked~label.sk-toggleable__label {background-color: #d4ebff;}#sk-container-id-1 div.sk-label input.sk-toggleable__control:checked~label.sk-toggleable__label {background-color: #d4ebff;}#sk-container-id-1 input.sk-hidden--visually {border: 0;clip: rect(1px 1px 1px 1px);clip: rect(1px, 1px, 1px, 1px);height: 1px;margin: -1px;overflow: hidden;padding: 0;position: absolute;width: 1px;}#sk-container-id-1 div.sk-estimator {font-family: monospace;background-color: #f0f8ff;border: 1px dotted black;border-radius: 0.25em;box-sizing: border-box;margin-bottom: 0.5em;}#sk-container-id-1 div.sk-estimator:hover {background-color: #d4ebff;}#sk-container-id-1 div.sk-parallel-item::after {content: \"\";width: 100%;border-bottom: 1px solid gray;flex-grow: 1;}#sk-container-id-1 div.sk-label:hover label.sk-toggleable__label {background-color: #d4ebff;}#sk-container-id-1 div.sk-serial::before {content: \"\";position: absolute;border-left: 1px solid gray;box-sizing: border-box;top: 0;bottom: 0;left: 50%;z-index: 0;}#sk-container-id-1 div.sk-serial {display: flex;flex-direction: column;align-items: center;background-color: white;padding-right: 0.2em;padding-left: 0.2em;position: relative;}#sk-container-id-1 div.sk-item {position: relative;z-index: 1;}#sk-container-id-1 div.sk-parallel {display: flex;align-items: stretch;justify-content: center;background-color: white;position: relative;}#sk-container-id-1 div.sk-item::before, #sk-container-id-1 div.sk-parallel-item::before {content: \"\";position: absolute;border-left: 1px solid gray;box-sizing: border-box;top: 0;bottom: 0;left: 50%;z-index: -1;}#sk-container-id-1 div.sk-parallel-item {display: flex;flex-direction: column;z-index: 1;position: relative;background-color: white;}#sk-container-id-1 div.sk-parallel-item:first-child::after {align-self: flex-end;width: 50%;}#sk-container-id-1 div.sk-parallel-item:last-child::after {align-self: flex-start;width: 50%;}#sk-container-id-1 div.sk-parallel-item:only-child::after {width: 0;}#sk-container-id-1 div.sk-dashed-wrapped {border: 1px dashed gray;margin: 0 0.4em 0.5em 0.4em;box-sizing: border-box;padding-bottom: 0.4em;background-color: white;}#sk-container-id-1 div.sk-label label {font-family: monospace;font-weight: bold;display: inline-block;line-height: 1.2em;}#sk-container-id-1 div.sk-label-container {text-align: center;}#sk-container-id-1 div.sk-container {/* jupyter's `normalize.less` sets `[hidden] { display: none; }` but bootstrap.min.css set `[hidden] { display: none !important; }` so we also need the `!important` here to be able to override the default hidden behavior on the sphinx rendered scikit-learn.org. See: https://github.com/scikit-learn/scikit-learn/issues/21755 */display: inline-block !important;position: relative;}#sk-container-id-1 div.sk-text-repr-fallback {display: none;}</style><div id=\"sk-container-id-1\" class=\"sk-top-container\"><div class=\"sk-text-repr-fallback\"><pre>RandomForestClassifier(max_depth=5, max_features=None, n_estimators=10,\n",
       "                       random_state=26)</pre><b>In a Jupyter environment, please rerun this cell to show the HTML representation or trust the notebook. <br />On GitHub, the HTML representation is unable to render, please try loading this page with nbviewer.org.</b></div><div class=\"sk-container\" hidden><div class=\"sk-item\"><div class=\"sk-estimator sk-toggleable\"><input class=\"sk-toggleable__control sk-hidden--visually\" id=\"sk-estimator-id-1\" type=\"checkbox\" checked><label for=\"sk-estimator-id-1\" class=\"sk-toggleable__label sk-toggleable__label-arrow\">RandomForestClassifier</label><div class=\"sk-toggleable__content\"><pre>RandomForestClassifier(max_depth=5, max_features=None, n_estimators=10,\n",
       "                       random_state=26)</pre></div></div></div></div></div>"
      ],
      "text/plain": [
       "RandomForestClassifier(max_depth=5, max_features=None, n_estimators=10,\n",
       "                       random_state=26)"
      ]
     },
     "execution_count": 47,
     "metadata": {},
     "output_type": "execute_result"
    }
   ],
   "source": [
    "features_forest_please = RandomForestClassifier(random_state=26, criterion='gini', max_depth=5, max_features=None, n_estimators=10)\n",
    "features_forest_please.fit(X_trainE, y_trainE)"
   ]
  },
  {
   "cell_type": "code",
   "execution_count": 83,
   "id": "85e13aa8",
   "metadata": {},
   "outputs": [
    {
     "data": {
      "image/png": "[encoded data removed]",
      "text/plain": [
       "<Figure size 432x288 with 1 Axes>"
      ]
     },
     "metadata": {
      "needs_background": "light"
     },
     "output_type": "display_data"
    }
   ],
   "source": [
    "def feature_plotter_f(model):\n",
    "    modlist = list(zip(X_trainE.columns, model.feature_importances_))\n",
    "    features_df = pd.DataFrame(modlist, columns=['features', 'importance'])\n",
    "    features_df = features_df.sort_values(by='importance', ascending=False)\n",
    "    features_df[:15]\n",
    "    sns.barplot(y=features_df['features'][:15], x=features_df['importance'][:15], orient='h', color='#186c9c')\n",
    "    #ax = plt.barh(features_df['features'][:15], features_df['importance'][:15])\n",
    "    plt.title('Emotion Feature Importance')\n",
    "    #ax.invert_yaxis()\n",
    "    plt.show()\n",
    "feature_plotter_f(features_forest_please)"
   ]
  }
 ],
 "metadata": {
  "kernelspec": {
   "display_name": "Python 3 (ipykernel)",
   "language": "python",
   "name": "python3"
  },
  "language_info": {
   "codemirror_mode": {
    "name": "ipython",
    "version": 3
   },
   "file_extension": ".py",
   "mimetype": "text/x-python",
   "name": "python",
   "nbconvert_exporter": "python",
   "pygments_lexer": "ipython3",
   "version": "3.9.12"
  }
 },
 "nbformat": 4,
 "nbformat_minor": 5
}
