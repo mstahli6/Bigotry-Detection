{
 "cells": [
  {
   "cell_type": "markdown",
   "id": "6731ba85",
   "metadata": {},
   "source": [
    "# Data Wrangling\n",
    "Importing Data\n",
    "\n",
    "[Data Overlook with Pandas Profiling](#Data-Overlook-with-Pandas-Profiling)\n",
    "\n",
    "- Observations\n",
    "- Confidence Cut-offs\n",
    "- Drop Unfinished Cases\n",
    "- Missing Data "
   ]
  },
  {
   "cell_type": "code",
   "execution_count": 1,
   "id": "cf56b5d5",
   "metadata": {},
   "outputs": [],
   "source": [
    "import pandas as pd\n",
    "import numpy as np \n",
    "import seaborn as sns\n",
    "import matplotlib.pyplot as plt\n",
    "import warnings\n",
    "warnings.filterwarnings(\"ignore\")"
   ]
  },
  {
   "cell_type": "code",
   "execution_count": 2,
   "id": "81751cf9",
   "metadata": {},
   "outputs": [],
   "source": [
    "df_raw = pd.read_csv(r'/Users/michelstahli/Spring 2022 (Bootcamp+)/Jupyter Notebook CSVs/a697592.csv')"
   ]
  },
  {
   "cell_type": "code",
   "execution_count": 3,
   "id": "6b2fc4ef",
   "metadata": {},
   "outputs": [
    {
     "data": {
      "text/plain": [
       "(10072, 44)"
      ]
     },
     "execution_count": 3,
     "metadata": {},
     "output_type": "execute_result"
    }
   ],
   "source": [
    "df_raw.shape"
   ]
  },
  {
   "cell_type": "markdown",
   "id": "2372bf94",
   "metadata": {},
   "source": [
    "Get rid of columns we clearly don't need"
   ]
  },
  {
   "cell_type": "code",
   "execution_count": 4,
   "id": "63639626",
   "metadata": {},
   "outputs": [],
   "source": [
    "df_new = df_raw[['_unit_id', '_unit_state','_trusted_judgments','bigotry', 'bigotry:confidence', 'directed','directed:confidence', 'sentiment_comment', 'sentiment_comment:confidence', 'sentiment_topic', 'sentiment_topic:confidence', 'author_name', 'body', 'id', 'overall_sentiment_score','subreddit','subreddit_id','ups']]"
   ]
  },
  {
   "cell_type": "code",
   "execution_count": 5,
   "id": "c0edb577",
   "metadata": {},
   "outputs": [
    {
     "data": {
      "text/html": [
       "<div>\n",
       "<style scoped>\n",
       "    .dataframe tbody tr th:only-of-type {\n",
       "        vertical-align: middle;\n",
       "    }\n",
       "\n",
       "    .dataframe tbody tr th {\n",
       "        vertical-align: top;\n",
       "    }\n",
       "\n",
       "    .dataframe thead th {\n",
       "        text-align: right;\n",
       "    }\n",
       "</style>\n",
       "<table border=\"1\" class=\"dataframe\">\n",
       "  <thead>\n",
       "    <tr style=\"text-align: right;\">\n",
       "      <th></th>\n",
       "      <th>_unit_id</th>\n",
       "      <th>_unit_state</th>\n",
       "      <th>_trusted_judgments</th>\n",
       "      <th>bigotry</th>\n",
       "      <th>bigotry:confidence</th>\n",
       "      <th>directed</th>\n",
       "      <th>directed:confidence</th>\n",
       "      <th>sentiment_comment</th>\n",
       "      <th>sentiment_comment:confidence</th>\n",
       "      <th>sentiment_topic</th>\n",
       "      <th>sentiment_topic:confidence</th>\n",
       "      <th>author_name</th>\n",
       "      <th>body</th>\n",
       "      <th>id</th>\n",
       "      <th>overall_sentiment_score</th>\n",
       "      <th>subreddit</th>\n",
       "      <th>subreddit_id</th>\n",
       "      <th>ups</th>\n",
       "    </tr>\n",
       "  </thead>\n",
       "  <tbody>\n",
       "    <tr>\n",
       "      <th>0</th>\n",
       "      <td>684790497</td>\n",
       "      <td>finalized</td>\n",
       "      <td>3</td>\n",
       "      <td>False</td>\n",
       "      <td>0.6585</td>\n",
       "      <td>Directed</td>\n",
       "      <td>1.0000</td>\n",
       "      <td>neutral</td>\n",
       "      <td>1.0000</td>\n",
       "      <td>neutral</td>\n",
       "      <td>1.0000</td>\n",
       "      <td>UFOabductee</td>\n",
       "      <td>Is this where I'm supposed to start a Linux fl...</td>\n",
       "      <td>t1_c15vcg9</td>\n",
       "      <td>-1.396659</td>\n",
       "      <td>announcements</td>\n",
       "      <td>t5_2r0ij</td>\n",
       "      <td>132</td>\n",
       "    </tr>\n",
       "    <tr>\n",
       "      <th>1</th>\n",
       "      <td>684790498</td>\n",
       "      <td>finalized</td>\n",
       "      <td>3</td>\n",
       "      <td>False</td>\n",
       "      <td>1.0000</td>\n",
       "      <td>Directed</td>\n",
       "      <td>1.0000</td>\n",
       "      <td>neutral</td>\n",
       "      <td>1.0000</td>\n",
       "      <td>neutral</td>\n",
       "      <td>1.0000</td>\n",
       "      <td>RaiseYourGlass</td>\n",
       "      <td>Yeah man, back then OS's didn't need viruses t...</td>\n",
       "      <td>t1_c15wddg</td>\n",
       "      <td>0.688598</td>\n",
       "      <td>announcements</td>\n",
       "      <td>t5_2r0ij</td>\n",
       "      <td>13</td>\n",
       "    </tr>\n",
       "    <tr>\n",
       "      <th>2</th>\n",
       "      <td>684790499</td>\n",
       "      <td>finalized</td>\n",
       "      <td>3</td>\n",
       "      <td>False</td>\n",
       "      <td>1.0000</td>\n",
       "      <td>Directed</td>\n",
       "      <td>0.6492</td>\n",
       "      <td>neutral</td>\n",
       "      <td>0.6492</td>\n",
       "      <td>neutral</td>\n",
       "      <td>1.0000</td>\n",
       "      <td>raldi</td>\n",
       "      <td>&amp;gt; I just extended for a year, verified, and...</td>\n",
       "      <td>t1_c16z039</td>\n",
       "      <td>-0.413420</td>\n",
       "      <td>announcements</td>\n",
       "      <td>t5_2r0ij</td>\n",
       "      <td>8</td>\n",
       "    </tr>\n",
       "    <tr>\n",
       "      <th>3</th>\n",
       "      <td>684790500</td>\n",
       "      <td>finalized</td>\n",
       "      <td>3</td>\n",
       "      <td>False</td>\n",
       "      <td>1.0000</td>\n",
       "      <td>Directed</td>\n",
       "      <td>0.6578</td>\n",
       "      <td>neutral</td>\n",
       "      <td>0.3602</td>\n",
       "      <td>neutral</td>\n",
       "      <td>0.7024</td>\n",
       "      <td>TheCid</td>\n",
       "      <td>The hell? That many people getting r/lounge ac...</td>\n",
       "      <td>t1_c16zi8e</td>\n",
       "      <td>-0.880108</td>\n",
       "      <td>announcements</td>\n",
       "      <td>t5_2r0ij</td>\n",
       "      <td>2</td>\n",
       "    </tr>\n",
       "    <tr>\n",
       "      <th>4</th>\n",
       "      <td>684790501</td>\n",
       "      <td>finalized</td>\n",
       "      <td>3</td>\n",
       "      <td>False</td>\n",
       "      <td>1.0000</td>\n",
       "      <td>Directed</td>\n",
       "      <td>1.0000</td>\n",
       "      <td>positive</td>\n",
       "      <td>1.0000</td>\n",
       "      <td>positive</td>\n",
       "      <td>1.0000</td>\n",
       "      <td>eunos</td>\n",
       "      <td>Worked perfectly! I'm glad to have given back ...</td>\n",
       "      <td>t1_c17051h</td>\n",
       "      <td>3.160947</td>\n",
       "      <td>announcements</td>\n",
       "      <td>t5_2r0ij</td>\n",
       "      <td>2</td>\n",
       "    </tr>\n",
       "  </tbody>\n",
       "</table>\n",
       "</div>"
      ],
      "text/plain": [
       "    _unit_id _unit_state  _trusted_judgments  bigotry  bigotry:confidence  \\\n",
       "0  684790497   finalized                   3    False              0.6585   \n",
       "1  684790498   finalized                   3    False              1.0000   \n",
       "2  684790499   finalized                   3    False              1.0000   \n",
       "3  684790500   finalized                   3    False              1.0000   \n",
       "4  684790501   finalized                   3    False              1.0000   \n",
       "\n",
       "   directed  directed:confidence sentiment_comment  \\\n",
       "0  Directed               1.0000           neutral   \n",
       "1  Directed               1.0000           neutral   \n",
       "2  Directed               0.6492           neutral   \n",
       "3  Directed               0.6578           neutral   \n",
       "4  Directed               1.0000          positive   \n",
       "\n",
       "   sentiment_comment:confidence sentiment_topic  sentiment_topic:confidence  \\\n",
       "0                        1.0000         neutral                      1.0000   \n",
       "1                        1.0000         neutral                      1.0000   \n",
       "2                        0.6492         neutral                      1.0000   \n",
       "3                        0.3602         neutral                      0.7024   \n",
       "4                        1.0000        positive                      1.0000   \n",
       "\n",
       "      author_name                                               body  \\\n",
       "0     UFOabductee  Is this where I'm supposed to start a Linux fl...   \n",
       "1  RaiseYourGlass  Yeah man, back then OS's didn't need viruses t...   \n",
       "2           raldi  &gt; I just extended for a year, verified, and...   \n",
       "3          TheCid  The hell? That many people getting r/lounge ac...   \n",
       "4           eunos  Worked perfectly! I'm glad to have given back ...   \n",
       "\n",
       "           id  overall_sentiment_score      subreddit subreddit_id  ups  \n",
       "0  t1_c15vcg9                -1.396659  announcements     t5_2r0ij  132  \n",
       "1  t1_c15wddg                 0.688598  announcements     t5_2r0ij   13  \n",
       "2  t1_c16z039                -0.413420  announcements     t5_2r0ij    8  \n",
       "3  t1_c16zi8e                -0.880108  announcements     t5_2r0ij    2  \n",
       "4  t1_c17051h                 3.160947  announcements     t5_2r0ij    2  "
      ]
     },
     "execution_count": 5,
     "metadata": {},
     "output_type": "execute_result"
    }
   ],
   "source": [
    "df_new.head()"
   ]
  },
  {
   "cell_type": "code",
   "execution_count": 6,
   "id": "02e5e99c",
   "metadata": {},
   "outputs": [
    {
     "data": {
      "text/plain": [
       "925"
      ]
     },
     "execution_count": 6,
     "metadata": {},
     "output_type": "execute_result"
    }
   ],
   "source": [
    "#bigoted values\n",
    "y = (df_new['bigotry'] == True).values.astype(int)\n",
    "y.sum()"
   ]
  },
  {
   "cell_type": "code",
   "execution_count": 7,
   "id": "13dc10a0",
   "metadata": {},
   "outputs": [],
   "source": [
    "df_new.to_csv(r'/Users/michelstahli/Spring 2022 (Bootcamp+)/Jupyter Notebook CSVs/CS2_Core_Data.csv')"
   ]
  },
  {
   "cell_type": "code",
   "execution_count": 8,
   "id": "bcf65f85",
   "metadata": {},
   "outputs": [],
   "source": [
    "df_new = pd.read_csv(r'/Users/michelstahli/Spring 2022 (Bootcamp+)/Jupyter Notebook CSVs/CS2_Core_Data.csv')"
   ]
  },
  {
   "cell_type": "code",
   "execution_count": 9,
   "id": "0cbc1a65",
   "metadata": {},
   "outputs": [
    {
     "data": {
      "text/plain": [
       "array([3, 4, 5, 2])"
      ]
     },
     "execution_count": 9,
     "metadata": {},
     "output_type": "execute_result"
    }
   ],
   "source": [
    "df_new['_trusted_judgments'].unique()"
   ]
  },
  {
   "cell_type": "markdown",
   "id": "e39b2ac7",
   "metadata": {},
   "source": [
    "### Data Overlook with Pandas Profiling"
   ]
  },
  {
   "cell_type": "code",
   "execution_count": 10,
   "id": "d3585209",
   "metadata": {},
   "outputs": [],
   "source": [
    "#from pandas_profiling import ProfileReport"
   ]
  },
  {
   "cell_type": "code",
   "execution_count": 11,
   "id": "eb4c0380",
   "metadata": {
    "scrolled": false
   },
   "outputs": [],
   "source": [
    "#Use ProfileReport to get a sense of data. Output not shown. \n",
    "#profile = ProfileReport(df_new, title='Data Prof Report', minimal=True)\n",
    "#profile.to_widgets()"
   ]
  },
  {
   "cell_type": "markdown",
   "id": "9424e259",
   "metadata": {},
   "source": [
    "Observations: \n",
    "\n",
    "unit_id is for each individual comment (since 100% distinct)\n",
    "unit_state has 11 observations \"in progress\"\n",
    "\n",
    "trusted_judgment has 2 (11), 3 (9568), 4 (457), and 5 (36). =>Will drop 2 only, and take a closer look at 5.\n",
    "\n",
    "bigotry has 9147 (90.8%) False, 925 (9.2%) True. Low bigotry overall. \n",
    "bigotry:confidence 7725 observations with 1. There are 880 distinct values... - should be 60 only.\n",
    "=> decide on > _.67 - 8821 observations. Crowd Flower in built function. \n",
    "\n",
    "directed has 7629 Directed and 2443 Non_Directed  \n",
    "directed:confidence 4502 observations with 1. _>.67 has 8821 observations.\n",
    "\n",
    "For sentiment_comment there is 24.3% missing data, yet for sentiment_comment:confidence there is only 4.7%, but 19.5% Zeros. neutral, positive, negative - 3253, 2404, 1972\n",
    "=> Will create multiple df with and without missing data from sentiment. \n",
    "sentiment_comment:confidence _>.67 3691 observations.\n",
    "\n",
    "sentiment_topic is neutral, negative, positive - 4558, 2782, 2732\n",
    "sentiment_topic:confidence _>.67 6689 observations. \n",
    "\n",
    "author_name has 9211 (91.5%) distinct values - some 850 authors have multiple comments in the dataset. \n",
    "\n",
    "overall_sentiment has median of -0.259642353, max 4, min -3.99 . Unsure how this was evaluated.  \n",
    "\n",
    "101 subreddits \n",
    "\n",
    "ups has median 3, mean 20.245, min -72, max 3528. Stdev 121. Q3 - 9, Q1 - 1. "
   ]
  },
  {
   "cell_type": "code",
   "execution_count": 12,
   "id": "bc274e60",
   "metadata": {},
   "outputs": [
    {
     "name": "stdout",
     "output_type": "stream",
     "text": [
      "(7725, 19)\n",
      "(7725, 19)\n",
      "\n",
      "\n",
      "(4502, 19)\n",
      "(7937, 19)\n",
      "\n",
      "\n",
      "(6689, 19)\n",
      "(7512, 19)\n"
     ]
    }
   ],
   "source": [
    "#Check difference between .67 and .66 confidence for observations. \n",
    "print(df_new[df_new['bigotry:confidence'] == 1].shape)\n",
    "print(df_new[df_new['bigotry:confidence'] == 1].shape)\n",
    "print('\\n')\n",
    "print(df_new[df_new['directed:confidence']== 1].shape)\n",
    "print(df_new[df_new['directed:confidence'] > .66].shape)\n",
    "print('\\n')\n",
    "print(df_new[df_new['sentiment_topic:confidence'] > .67].shape)\n",
    "print(df_new[df_new['sentiment_topic:confidence'] > .66].shape)"
   ]
  },
  {
   "cell_type": "code",
   "execution_count": 13,
   "id": "cd293d70",
   "metadata": {},
   "outputs": [
    {
     "data": {
      "text/plain": [
       "<AxesSubplot:>"
      ]
     },
     "execution_count": 13,
     "metadata": {},
     "output_type": "execute_result"
    },
    {
     "data": {
      "image/png": "[encoded data removed]",
      "text/plain": [
       "<Figure size 432x288 with 1 Axes>"
      ]
     },
     "metadata": {
      "needs_background": "light"
     },
     "output_type": "display_data"
    }
   ],
   "source": [
    "df_new['bigotry:confidence'].hist(bins=50)"
   ]
  },
  {
   "cell_type": "code",
   "execution_count": 14,
   "id": "3b10023a",
   "metadata": {},
   "outputs": [
    {
     "data": {
      "text/plain": [
       "<AxesSubplot:>"
      ]
     },
     "execution_count": 14,
     "metadata": {},
     "output_type": "execute_result"
    },
    {
     "data": {
      "image/png": "[encoded data removed]",
      "text/plain": [
       "<Figure size 432x288 with 1 Axes>"
      ]
     },
     "metadata": {
      "needs_background": "light"
     },
     "output_type": "display_data"
    }
   ],
   "source": [
    "#Bigotry\n",
    "df_erika_ist= df_new[(df_new['bigotry:confidence']>=0.6) & (df_new['bigotry:confidence']<=0.8)]\n",
    "df_erika_ist['bigotry:confidence'].hist()"
   ]
  },
  {
   "cell_type": "code",
   "execution_count": 15,
   "id": "b032cc1e",
   "metadata": {},
   "outputs": [
    {
     "data": {
      "text/html": [
       "<div>\n",
       "<style scoped>\n",
       "    .dataframe tbody tr th:only-of-type {\n",
       "        vertical-align: middle;\n",
       "    }\n",
       "\n",
       "    .dataframe tbody tr th {\n",
       "        vertical-align: top;\n",
       "    }\n",
       "\n",
       "    .dataframe thead th {\n",
       "        text-align: right;\n",
       "    }\n",
       "</style>\n",
       "<table border=\"1\" class=\"dataframe\">\n",
       "  <thead>\n",
       "    <tr style=\"text-align: right;\">\n",
       "      <th></th>\n",
       "      <th>num_id</th>\n",
       "      <th>reviewers</th>\n",
       "      <th>bigotry</th>\n",
       "      <th>bigotry_c</th>\n",
       "      <th>directed</th>\n",
       "      <th>directed_c</th>\n",
       "      <th>sentiment_comment</th>\n",
       "      <th>sentcom_c</th>\n",
       "      <th>sentiment_topic</th>\n",
       "      <th>senttop_c</th>\n",
       "      <th>author_name</th>\n",
       "      <th>text</th>\n",
       "      <th>id</th>\n",
       "      <th>overall_sentiment_score</th>\n",
       "      <th>subreddit</th>\n",
       "      <th>subreddit_id</th>\n",
       "      <th>ups</th>\n",
       "    </tr>\n",
       "  </thead>\n",
       "  <tbody>\n",
       "    <tr>\n",
       "      <th>0</th>\n",
       "      <td>684790497</td>\n",
       "      <td>3</td>\n",
       "      <td>False</td>\n",
       "      <td>0.6585</td>\n",
       "      <td>Directed</td>\n",
       "      <td>1.0000</td>\n",
       "      <td>neutral</td>\n",
       "      <td>1.0000</td>\n",
       "      <td>neutral</td>\n",
       "      <td>1.0000</td>\n",
       "      <td>UFOabductee</td>\n",
       "      <td>Is this where I'm supposed to start a Linux fl...</td>\n",
       "      <td>t1_c15vcg9</td>\n",
       "      <td>-1.396659</td>\n",
       "      <td>announcements</td>\n",
       "      <td>t5_2r0ij</td>\n",
       "      <td>132</td>\n",
       "    </tr>\n",
       "    <tr>\n",
       "      <th>1</th>\n",
       "      <td>684790498</td>\n",
       "      <td>3</td>\n",
       "      <td>False</td>\n",
       "      <td>1.0000</td>\n",
       "      <td>Directed</td>\n",
       "      <td>1.0000</td>\n",
       "      <td>neutral</td>\n",
       "      <td>1.0000</td>\n",
       "      <td>neutral</td>\n",
       "      <td>1.0000</td>\n",
       "      <td>RaiseYourGlass</td>\n",
       "      <td>Yeah man, back then OS's didn't need viruses t...</td>\n",
       "      <td>t1_c15wddg</td>\n",
       "      <td>0.688598</td>\n",
       "      <td>announcements</td>\n",
       "      <td>t5_2r0ij</td>\n",
       "      <td>13</td>\n",
       "    </tr>\n",
       "    <tr>\n",
       "      <th>2</th>\n",
       "      <td>684790499</td>\n",
       "      <td>3</td>\n",
       "      <td>False</td>\n",
       "      <td>1.0000</td>\n",
       "      <td>Directed</td>\n",
       "      <td>0.6492</td>\n",
       "      <td>neutral</td>\n",
       "      <td>0.6492</td>\n",
       "      <td>neutral</td>\n",
       "      <td>1.0000</td>\n",
       "      <td>raldi</td>\n",
       "      <td>&amp;gt; I just extended for a year, verified, and...</td>\n",
       "      <td>t1_c16z039</td>\n",
       "      <td>-0.413420</td>\n",
       "      <td>announcements</td>\n",
       "      <td>t5_2r0ij</td>\n",
       "      <td>8</td>\n",
       "    </tr>\n",
       "    <tr>\n",
       "      <th>3</th>\n",
       "      <td>684790500</td>\n",
       "      <td>3</td>\n",
       "      <td>False</td>\n",
       "      <td>1.0000</td>\n",
       "      <td>Directed</td>\n",
       "      <td>0.6578</td>\n",
       "      <td>neutral</td>\n",
       "      <td>0.3602</td>\n",
       "      <td>neutral</td>\n",
       "      <td>0.7024</td>\n",
       "      <td>TheCid</td>\n",
       "      <td>The hell? That many people getting r/lounge ac...</td>\n",
       "      <td>t1_c16zi8e</td>\n",
       "      <td>-0.880108</td>\n",
       "      <td>announcements</td>\n",
       "      <td>t5_2r0ij</td>\n",
       "      <td>2</td>\n",
       "    </tr>\n",
       "    <tr>\n",
       "      <th>4</th>\n",
       "      <td>684790501</td>\n",
       "      <td>3</td>\n",
       "      <td>False</td>\n",
       "      <td>1.0000</td>\n",
       "      <td>Directed</td>\n",
       "      <td>1.0000</td>\n",
       "      <td>positive</td>\n",
       "      <td>1.0000</td>\n",
       "      <td>positive</td>\n",
       "      <td>1.0000</td>\n",
       "      <td>eunos</td>\n",
       "      <td>Worked perfectly! I'm glad to have given back ...</td>\n",
       "      <td>t1_c17051h</td>\n",
       "      <td>3.160947</td>\n",
       "      <td>announcements</td>\n",
       "      <td>t5_2r0ij</td>\n",
       "      <td>2</td>\n",
       "    </tr>\n",
       "  </tbody>\n",
       "</table>\n",
       "</div>"
      ],
      "text/plain": [
       "      num_id  reviewers  bigotry  bigotry_c  directed  directed_c  \\\n",
       "0  684790497          3    False     0.6585  Directed      1.0000   \n",
       "1  684790498          3    False     1.0000  Directed      1.0000   \n",
       "2  684790499          3    False     1.0000  Directed      0.6492   \n",
       "3  684790500          3    False     1.0000  Directed      0.6578   \n",
       "4  684790501          3    False     1.0000  Directed      1.0000   \n",
       "\n",
       "  sentiment_comment  sentcom_c sentiment_topic  senttop_c     author_name  \\\n",
       "0           neutral     1.0000         neutral     1.0000     UFOabductee   \n",
       "1           neutral     1.0000         neutral     1.0000  RaiseYourGlass   \n",
       "2           neutral     0.6492         neutral     1.0000           raldi   \n",
       "3           neutral     0.3602         neutral     0.7024          TheCid   \n",
       "4          positive     1.0000        positive     1.0000           eunos   \n",
       "\n",
       "                                                text          id  \\\n",
       "0  Is this where I'm supposed to start a Linux fl...  t1_c15vcg9   \n",
       "1  Yeah man, back then OS's didn't need viruses t...  t1_c15wddg   \n",
       "2  &gt; I just extended for a year, verified, and...  t1_c16z039   \n",
       "3  The hell? That many people getting r/lounge ac...  t1_c16zi8e   \n",
       "4  Worked perfectly! I'm glad to have given back ...  t1_c17051h   \n",
       "\n",
       "   overall_sentiment_score      subreddit subreddit_id  ups  \n",
       "0                -1.396659  announcements     t5_2r0ij  132  \n",
       "1                 0.688598  announcements     t5_2r0ij   13  \n",
       "2                -0.413420  announcements     t5_2r0ij    8  \n",
       "3                -0.880108  announcements     t5_2r0ij    2  \n",
       "4                 3.160947  announcements     t5_2r0ij    2  "
      ]
     },
     "execution_count": 15,
     "metadata": {},
     "output_type": "execute_result"
    }
   ],
   "source": [
    "#Drop \"in progress\" - \n",
    "df_new = df_new[df_new['_unit_state'] == 'finalized']\n",
    "df_new.drop(columns = ['_unit_state'], inplace = True)\n",
    "\n",
    "#Let's rename the columns \n",
    "df_named = df_new.rename(columns = {'_unit_id':'num_id', '_trusted_judgments':'reviewers', 'bigotry:confidence':'bigotry_c', 'directed:confidence':'directed_c', 'sentiment_comment:confidence':'sentcom_c', 'sentiment_topic:confidence':'senttop_c', 'body':'text'}, inplace = False)\n",
    "\n",
    "#And get rid of the number column\n",
    "df_named = df_named.iloc[: , 1:]\n",
    "df_named.head()"
   ]
  },
  {
   "cell_type": "markdown",
   "id": "9f99e69e",
   "metadata": {},
   "source": [
    "**This also gets rid of all columns with less than 3 reviewers**"
   ]
  },
  {
   "cell_type": "code",
   "execution_count": 16,
   "id": "82d62678",
   "metadata": {},
   "outputs": [
    {
     "data": {
      "text/plain": [
       "array([3, 4, 5])"
      ]
     },
     "execution_count": 16,
     "metadata": {},
     "output_type": "execute_result"
    }
   ],
   "source": [
    "df_named['reviewers'].unique()"
   ]
  },
  {
   "cell_type": "markdown",
   "id": "c0534b8e",
   "metadata": {},
   "source": [
    "#### Confirm the only missing data we need to deal with is sentiment_comment and sentcom_c "
   ]
  },
  {
   "cell_type": "code",
   "execution_count": 17,
   "id": "979cf3bb",
   "metadata": {},
   "outputs": [
    {
     "name": "stdout",
     "output_type": "stream",
     "text": [
      "num_id                        0\n",
      "reviewers                     0\n",
      "bigotry                       0\n",
      "bigotry_c                     0\n",
      "directed                      0\n",
      "directed_c                    0\n",
      "sentiment_comment          2439\n",
      "sentcom_c                   471\n",
      "sentiment_topic               0\n",
      "senttop_c                     0\n",
      "author_name                   0\n",
      "text                          0\n",
      "id                            0\n",
      "overall_sentiment_score       0\n",
      "subreddit                     0\n",
      "subreddit_id                  0\n",
      "ups                           0\n",
      "dtype: int64\n",
      "\n",
      "\n",
      "Empty DataFrame\n",
      "Columns: [num_id, reviewers, bigotry, bigotry_c, directed, directed_c, sentiment_comment, sentcom_c, sentiment_topic, senttop_c, author_name, text, id, overall_sentiment_score, subreddit, subreddit_id, ups]\n",
      "Index: []\n"
     ]
    }
   ],
   "source": [
    "#Confirm missing data \n",
    "print(df_named.isna().sum())\n",
    "print('\\n')\n",
    "\n",
    "#Confirm duplicate rows = zero\n",
    "print(df_named[df_named.duplicated()])"
   ]
  },
  {
   "cell_type": "code",
   "execution_count": 18,
   "id": "d91186e5",
   "metadata": {},
   "outputs": [],
   "source": [
    "#Create df with directed as bool as well \n",
    "\n",
    "b = {'Directed': True, 'Non_Directed': False}\n",
    "df_booled = df_named\n",
    "df_booled['directed'] = df_named['directed'].map(b)\n"
   ]
  },
  {
   "cell_type": "code",
   "execution_count": 19,
   "id": "0930fd43",
   "metadata": {},
   "outputs": [],
   "source": [
    "df_named.to_csv(r'/Users/michelstahli/Spring 2022 (Bootcamp+)/Jupyter Notebook CSVs/rbig_wrangled.csv')\n",
    "df_booled.to_csv(r'/Users/michelstahli/Spring 2022 (Bootcamp+)/Jupyter Notebook CSVs/rbig_booled.csv')"
   ]
  },
  {
   "cell_type": "code",
   "execution_count": 20,
   "id": "b6527cc9",
   "metadata": {
    "scrolled": true
   },
   "outputs": [
    {
     "data": {
      "text/html": [
       "<div>\n",
       "<style scoped>\n",
       "    .dataframe tbody tr th:only-of-type {\n",
       "        vertical-align: middle;\n",
       "    }\n",
       "\n",
       "    .dataframe tbody tr th {\n",
       "        vertical-align: top;\n",
       "    }\n",
       "\n",
       "    .dataframe thead th {\n",
       "        text-align: right;\n",
       "    }\n",
       "</style>\n",
       "<table border=\"1\" class=\"dataframe\">\n",
       "  <thead>\n",
       "    <tr style=\"text-align: right;\">\n",
       "      <th></th>\n",
       "      <th>num_id</th>\n",
       "      <th>reviewers</th>\n",
       "      <th>bigotry</th>\n",
       "      <th>bigotry_c</th>\n",
       "      <th>directed</th>\n",
       "      <th>directed_c</th>\n",
       "      <th>sentiment_comment</th>\n",
       "      <th>sentcom_c</th>\n",
       "      <th>sentiment_topic</th>\n",
       "      <th>senttop_c</th>\n",
       "      <th>author_name</th>\n",
       "      <th>text</th>\n",
       "      <th>id</th>\n",
       "      <th>overall_sentiment_score</th>\n",
       "      <th>subreddit</th>\n",
       "      <th>subreddit_id</th>\n",
       "      <th>ups</th>\n",
       "    </tr>\n",
       "  </thead>\n",
       "  <tbody>\n",
       "    <tr>\n",
       "      <th>0</th>\n",
       "      <td>684790497</td>\n",
       "      <td>3</td>\n",
       "      <td>False</td>\n",
       "      <td>0.6585</td>\n",
       "      <td>True</td>\n",
       "      <td>1.0000</td>\n",
       "      <td>neutral</td>\n",
       "      <td>1.0000</td>\n",
       "      <td>neutral</td>\n",
       "      <td>1.0000</td>\n",
       "      <td>UFOabductee</td>\n",
       "      <td>Is this where I'm supposed to start a Linux fl...</td>\n",
       "      <td>t1_c15vcg9</td>\n",
       "      <td>-1.396659</td>\n",
       "      <td>announcements</td>\n",
       "      <td>t5_2r0ij</td>\n",
       "      <td>132</td>\n",
       "    </tr>\n",
       "    <tr>\n",
       "      <th>1</th>\n",
       "      <td>684790498</td>\n",
       "      <td>3</td>\n",
       "      <td>False</td>\n",
       "      <td>1.0000</td>\n",
       "      <td>True</td>\n",
       "      <td>1.0000</td>\n",
       "      <td>neutral</td>\n",
       "      <td>1.0000</td>\n",
       "      <td>neutral</td>\n",
       "      <td>1.0000</td>\n",
       "      <td>RaiseYourGlass</td>\n",
       "      <td>Yeah man, back then OS's didn't need viruses t...</td>\n",
       "      <td>t1_c15wddg</td>\n",
       "      <td>0.688598</td>\n",
       "      <td>announcements</td>\n",
       "      <td>t5_2r0ij</td>\n",
       "      <td>13</td>\n",
       "    </tr>\n",
       "    <tr>\n",
       "      <th>2</th>\n",
       "      <td>684790499</td>\n",
       "      <td>3</td>\n",
       "      <td>False</td>\n",
       "      <td>1.0000</td>\n",
       "      <td>True</td>\n",
       "      <td>0.6492</td>\n",
       "      <td>neutral</td>\n",
       "      <td>0.6492</td>\n",
       "      <td>neutral</td>\n",
       "      <td>1.0000</td>\n",
       "      <td>raldi</td>\n",
       "      <td>&amp;gt; I just extended for a year, verified, and...</td>\n",
       "      <td>t1_c16z039</td>\n",
       "      <td>-0.413420</td>\n",
       "      <td>announcements</td>\n",
       "      <td>t5_2r0ij</td>\n",
       "      <td>8</td>\n",
       "    </tr>\n",
       "    <tr>\n",
       "      <th>3</th>\n",
       "      <td>684790500</td>\n",
       "      <td>3</td>\n",
       "      <td>False</td>\n",
       "      <td>1.0000</td>\n",
       "      <td>True</td>\n",
       "      <td>0.6578</td>\n",
       "      <td>neutral</td>\n",
       "      <td>0.3602</td>\n",
       "      <td>neutral</td>\n",
       "      <td>0.7024</td>\n",
       "      <td>TheCid</td>\n",
       "      <td>The hell? That many people getting r/lounge ac...</td>\n",
       "      <td>t1_c16zi8e</td>\n",
       "      <td>-0.880108</td>\n",
       "      <td>announcements</td>\n",
       "      <td>t5_2r0ij</td>\n",
       "      <td>2</td>\n",
       "    </tr>\n",
       "    <tr>\n",
       "      <th>4</th>\n",
       "      <td>684790501</td>\n",
       "      <td>3</td>\n",
       "      <td>False</td>\n",
       "      <td>1.0000</td>\n",
       "      <td>True</td>\n",
       "      <td>1.0000</td>\n",
       "      <td>positive</td>\n",
       "      <td>1.0000</td>\n",
       "      <td>positive</td>\n",
       "      <td>1.0000</td>\n",
       "      <td>eunos</td>\n",
       "      <td>Worked perfectly! I'm glad to have given back ...</td>\n",
       "      <td>t1_c17051h</td>\n",
       "      <td>3.160947</td>\n",
       "      <td>announcements</td>\n",
       "      <td>t5_2r0ij</td>\n",
       "      <td>2</td>\n",
       "    </tr>\n",
       "  </tbody>\n",
       "</table>\n",
       "</div>"
      ],
      "text/plain": [
       "      num_id  reviewers  bigotry  bigotry_c  directed  directed_c  \\\n",
       "0  684790497          3    False     0.6585      True      1.0000   \n",
       "1  684790498          3    False     1.0000      True      1.0000   \n",
       "2  684790499          3    False     1.0000      True      0.6492   \n",
       "3  684790500          3    False     1.0000      True      0.6578   \n",
       "4  684790501          3    False     1.0000      True      1.0000   \n",
       "\n",
       "  sentiment_comment  sentcom_c sentiment_topic  senttop_c     author_name  \\\n",
       "0           neutral     1.0000         neutral     1.0000     UFOabductee   \n",
       "1           neutral     1.0000         neutral     1.0000  RaiseYourGlass   \n",
       "2           neutral     0.6492         neutral     1.0000           raldi   \n",
       "3           neutral     0.3602         neutral     0.7024          TheCid   \n",
       "4          positive     1.0000        positive     1.0000           eunos   \n",
       "\n",
       "                                                text          id  \\\n",
       "0  Is this where I'm supposed to start a Linux fl...  t1_c15vcg9   \n",
       "1  Yeah man, back then OS's didn't need viruses t...  t1_c15wddg   \n",
       "2  &gt; I just extended for a year, verified, and...  t1_c16z039   \n",
       "3  The hell? That many people getting r/lounge ac...  t1_c16zi8e   \n",
       "4  Worked perfectly! I'm glad to have given back ...  t1_c17051h   \n",
       "\n",
       "   overall_sentiment_score      subreddit subreddit_id  ups  \n",
       "0                -1.396659  announcements     t5_2r0ij  132  \n",
       "1                 0.688598  announcements     t5_2r0ij   13  \n",
       "2                -0.413420  announcements     t5_2r0ij    8  \n",
       "3                -0.880108  announcements     t5_2r0ij    2  \n",
       "4                 3.160947  announcements     t5_2r0ij    2  "
      ]
     },
     "execution_count": 20,
     "metadata": {},
     "output_type": "execute_result"
    }
   ],
   "source": [
    "df_booled.head()"
   ]
  },
  {
   "cell_type": "markdown",
   "id": "f53011c8",
   "metadata": {},
   "source": [
    "Main takeaways: \n",
    "\n",
    "Note the sentiment_comment missing data/sentcon_c.  \n",
    "\n",
    "Need to check correlations between sentiments directed and bigotry. \n",
    "\n",
    "See \"CSV's etc.\" for latest clean csv \n",
    "\n",
    "Just use confidence = 1, since so many observations. (See plot)\n",
    "\n",
    "Note: See if bigotry , negative sentiment +  directed (check to see this) or both are truly toxic -- \n",
    "\n",
    "May need to filter for sentiment_topic "
   ]
  },
  {
   "cell_type": "code",
   "execution_count": 21,
   "id": "e667c008",
   "metadata": {},
   "outputs": [
    {
     "data": {
      "text/plain": [
       "921"
      ]
     },
     "execution_count": 21,
     "metadata": {},
     "output_type": "execute_result"
    }
   ],
   "source": [
    "y = (df_booled['bigotry'] == True).values.astype(int)\n",
    "y.sum()"
   ]
  }
 ],
 "metadata": {
  "kernelspec": {
   "display_name": "Python 3 (ipykernel)",
   "language": "python",
   "name": "python3"
  },
  "language_info": {
   "codemirror_mode": {
    "name": "ipython",
    "version": 3
   },
   "file_extension": ".py",
   "mimetype": "text/x-python",
   "name": "python",
   "nbconvert_exporter": "python",
   "pygments_lexer": "ipython3",
   "version": "3.9.12"
  }
 },
 "nbformat": 4,
 "nbformat_minor": 5
}
