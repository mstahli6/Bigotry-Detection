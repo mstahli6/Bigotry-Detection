{
 "cells": [
  {
   "cell_type": "markdown",
   "id": "791fa438",
   "metadata": {},
   "source": [
    "# Modelling"
   ]
  },
  {
   "cell_type": "markdown",
   "id": "4a8695c5",
   "metadata": {},
   "source": [
    "### Data Load in and Count Vectorizer \n",
    "\n",
    "### GridSearch Models\n",
    " - [Logistic Regression](#Logistic-Regression)\n",
    "\n",
    " - [RandomForestClassifier](#RandomForestClassifier)\n",
    "\n",
    " - [Support Vector Machine](#Support-Vector-Machine)\n",
    "\n",
    " - [Gradient Boosting](#Gradient-Boosting)\n",
    "\n",
    "[Choosing the Best Model](#Choosing-the-Best-Model)\n",
    "\n",
    "[Final Model Performance Test](#Final-Model-Performance-Test )\n",
    "\n",
    "[Choosing the Threshold](#Choosing-the-Threshold)\n",
    "\n",
    "[Final Optimized Model Report](#Final-Optimized-Model-Report)"
   ]
  },
  {
   "cell_type": "markdown",
   "id": "cb64ae4e",
   "metadata": {},
   "source": [
    "The business would like to create a comment identification system that internally flags posts that may contain bigotry. \n",
    "A comment reviewing team will go through the flagged comments and take down comments that contain bigotry by two thirds vote. \n",
    "The team estimates it can review up to 10% of comment traffic. "
   ]
  },
  {
   "cell_type": "code",
   "execution_count": 2,
   "id": "d5edd528",
   "metadata": {
    "scrolled": false
   },
   "outputs": [],
   "source": [
    "from sklearn.feature_extraction.text import CountVectorizer\n",
    "from sklearn.model_selection import GridSearchCV\n",
    "from sklearn.pipeline import Pipeline\n",
    "from sklearn.model_selection import train_test_split\n",
    "from sklearn.linear_model import LogisticRegression\n",
    "from sklearn.svm import SVC\n",
    "from sklearn.ensemble import RandomForestClassifier\n",
    "from sklearn.metrics import precision_score, recall_score, classification_report, confusion_matrix, ConfusionMatrixDisplay, matthews_corrcoef, make_scorer, roc_auc_score, roc_curve, PrecisionRecallDisplay\n",
    "from sklearn.ensemble import GradientBoostingClassifier\n",
    "from sklearn.metrics import auc\n",
    "import matplotlib.style\n",
    "import matplotlib as mpl\n",
    "\n",
    "import pandas as pd\n",
    "import numpy as np\n",
    "import matplotlib.pyplot as plt\n",
    "import seaborn as sns\n",
    "import math"
   ]
  },
  {
   "cell_type": "code",
   "execution_count": 3,
   "id": "9d636f0a",
   "metadata": {
    "scrolled": false
   },
   "outputs": [],
   "source": [
    "X = pd.read_csv(r'/Users/michelstahli/Spring 2022 (Bootcamp+)/Jupyter Notebook CSVs/X_for_vector.csv')\n",
    "X_train_scaled = pd.read_csv(r'/Users/michelstahli/Spring 2022 (Bootcamp+)/Jupyter Notebook CSVs/X_train_scaled_ob.csv') \n",
    "X_val_scaled = pd.read_csv(r'/Users/michelstahli/Spring 2022 (Bootcamp+)/Jupyter Notebook CSVs/X_val_scaled_ob.csv') \n",
    "y_train = pd.read_csv(r'/Users/michelstahli/Spring 2022 (Bootcamp+)/Jupyter Notebook CSVs/y_train_ob.csv') \n",
    "y_val = pd.read_csv(r'/Users/michelstahli/Spring 2022 (Bootcamp+)/Jupyter Notebook CSVs/y_val_ob.csv') \n",
    "X_test_scaled = pd.read_csv(r'/Users/michelstahli/Spring 2022 (Bootcamp+)/Jupyter Notebook CSVs/X_test__scaled_ob.csv')\n",
    "X_final_train_scaled = pd.read_csv(r'/Users/michelstahli/Spring 2022 (Bootcamp+)/Jupyter Notebook CSVs/X_final_train_scaled_ob.csv')\n",
    "y_final_train = pd.read_csv(r'/Users/michelstahli/Spring 2022 (Bootcamp+)/Jupyter Notebook CSVs/y_model_ob.csv') \n",
    "y_test = pd.read_csv(r'/Users/michelstahli/Spring 2022 (Bootcamp+)/Jupyter Notebook CSVs/y_test_ob.csv') "
   ]
  },
  {
   "cell_type": "markdown",
   "id": "a5f3cc19",
   "metadata": {},
   "source": [
    "### Create vectorizer for all words to fit on. \n",
    " - With more time could have tried different min_df and max_df values. "
   ]
  },
  {
   "cell_type": "code",
   "execution_count": 4,
   "id": "3f9cfcb3",
   "metadata": {
    "scrolled": false
   },
   "outputs": [],
   "source": [
    "def get_word_matrix (X_input):\n",
    "    bag = X['text_lemmatized']\n",
    "    vectorizer = CountVectorizer(min_df=0.01, max_df=0.8) #Found this works best in Naive Bayes, consider changing\n",
    "    fitted_vectorizer = vectorizer.fit(bag)\n",
    "    word_matrix = fitted_vectorizer.transform(X_input['text_lemmatized'])\n",
    "    return word_matrix\n",
    "def get_add_word_matrix (X_input):\n",
    "    #df_og, df with bag of words replace with vectorized word matrix, X_input\n",
    "    bag = X['text_lemmatized']\n",
    "    vectorizer = CountVectorizer(min_df=0.01, max_df=0.8) #Final was 0.01\n",
    "    fitted_vectorizer = vectorizer.fit(bag)\n",
    "    word_matrix = fitted_vectorizer.transform(X_input['text_lemmatized'])\n",
    "    \n",
    "    df_word_matrix = pd.DataFrame(word_matrix.toarray(), columns = vectorizer.get_feature_names_out())\n",
    "    df_word_matrix['Unnamed: 0'] = X_input['Unnamed: 0']\n",
    "    df_merged = X_input.merge(df_word_matrix, on ='Unnamed: 0')\n",
    "    df_merged = df_merged.drop(columns=['Unnamed: 0', 'text_lemmatized'])\n",
    "    return df_merged"
   ]
  },
  {
   "cell_type": "markdown",
   "id": "a434d401",
   "metadata": {},
   "source": [
    "Create training and validation dfs with count-vectorized matrix added"
   ]
  },
  {
   "cell_type": "code",
   "execution_count": 8,
   "id": "a7a0690e",
   "metadata": {
    "scrolled": false
   },
   "outputs": [],
   "source": [
    "X_train_scaled_plus = get_add_word_matrix(X_train_scaled)\n",
    "X_val_scaled_plus = get_add_word_matrix(X_val_scaled)\n",
    "X_train_scaled_plus = X_train_scaled_plus.drop(columns=['disgust_x', 'surprise_x', 'neutral_x', 'anger_x',\n",
    "       'sad_x', 'happy_x', 'fear_x']) #For testing emotion score usefulness \n",
    "X_val_scaled_plus = X_val_scaled_plus.drop(columns=['disgust_x', 'surprise_x', 'neutral_x', 'anger_x',\n",
    "       'sad_x', 'happy_x', 'fear_x']) #For testing emotion score usefulness"
   ]
  },
  {
   "cell_type": "markdown",
   "id": "3f340d5c",
   "metadata": {},
   "source": [
    "Make y-labels 1s and 0s"
   ]
  },
  {
   "cell_type": "code",
   "execution_count": 9,
   "id": "09432bb8",
   "metadata": {
    "scrolled": false
   },
   "outputs": [],
   "source": [
    "y_train1 = y_train*1\n",
    "y_train1 = y_train1.drop(columns='Unnamed: 0')\n",
    "y_train1 = y_train1.to_numpy().ravel()\n",
    "y_val1 = y_val*1\n",
    "y_val1 = y_val1.drop(columns='Unnamed: 0')\n",
    "y_val1 = y_val1.to_numpy().ravel()"
   ]
  },
  {
   "cell_type": "code",
   "execution_count": 10,
   "id": "97f8242a",
   "metadata": {
    "scrolled": false
   },
   "outputs": [
    {
     "data": {
      "text/plain": [
       "array([0, 0, 0, ..., 0, 1, 0])"
      ]
     },
     "execution_count": 10,
     "metadata": {},
     "output_type": "execute_result"
    }
   ],
   "source": [
    "y_train1"
   ]
  },
  {
   "cell_type": "code",
   "execution_count": 11,
   "id": "8158ed59",
   "metadata": {
    "scrolled": false
   },
   "outputs": [
    {
     "data": {
      "text/html": [
       "<div>\n",
       "<style scoped>\n",
       "    .dataframe tbody tr th:only-of-type {\n",
       "        vertical-align: middle;\n",
       "    }\n",
       "\n",
       "    .dataframe tbody tr th {\n",
       "        vertical-align: top;\n",
       "    }\n",
       "\n",
       "    .dataframe thead th {\n",
       "        text-align: right;\n",
       "    }\n",
       "</style>\n",
       "<table border=\"1\" class=\"dataframe\">\n",
       "  <thead>\n",
       "    <tr style=\"text-align: right;\">\n",
       "      <th></th>\n",
       "      <th>ups</th>\n",
       "      <th>dal</th>\n",
       "      <th>word_count</th>\n",
       "      <th>up_low_ratio</th>\n",
       "      <th>about</th>\n",
       "      <th>actually</th>\n",
       "      <th>after</th>\n",
       "      <th>again</th>\n",
       "      <th>ago</th>\n",
       "      <th>all</th>\n",
       "      <th>...</th>\n",
       "      <th>work</th>\n",
       "      <th>world</th>\n",
       "      <th>would</th>\n",
       "      <th>wow</th>\n",
       "      <th>wrong</th>\n",
       "      <th>yeah</th>\n",
       "      <th>year</th>\n",
       "      <th>yes</th>\n",
       "      <th>you</th>\n",
       "      <th>your</th>\n",
       "    </tr>\n",
       "  </thead>\n",
       "  <tbody>\n",
       "    <tr>\n",
       "      <th>0</th>\n",
       "      <td>0.020278</td>\n",
       "      <td>0.027289</td>\n",
       "      <td>0.007385</td>\n",
       "      <td>0.019608</td>\n",
       "      <td>0</td>\n",
       "      <td>0</td>\n",
       "      <td>0</td>\n",
       "      <td>0</td>\n",
       "      <td>0</td>\n",
       "      <td>0</td>\n",
       "      <td>...</td>\n",
       "      <td>0</td>\n",
       "      <td>0</td>\n",
       "      <td>0</td>\n",
       "      <td>0</td>\n",
       "      <td>0</td>\n",
       "      <td>0</td>\n",
       "      <td>0</td>\n",
       "      <td>0</td>\n",
       "      <td>0</td>\n",
       "      <td>0</td>\n",
       "    </tr>\n",
       "    <tr>\n",
       "      <th>1</th>\n",
       "      <td>0.020833</td>\n",
       "      <td>0.023670</td>\n",
       "      <td>0.005538</td>\n",
       "      <td>0.062500</td>\n",
       "      <td>0</td>\n",
       "      <td>0</td>\n",
       "      <td>0</td>\n",
       "      <td>0</td>\n",
       "      <td>0</td>\n",
       "      <td>0</td>\n",
       "      <td>...</td>\n",
       "      <td>1</td>\n",
       "      <td>0</td>\n",
       "      <td>0</td>\n",
       "      <td>0</td>\n",
       "      <td>0</td>\n",
       "      <td>0</td>\n",
       "      <td>0</td>\n",
       "      <td>0</td>\n",
       "      <td>0</td>\n",
       "      <td>0</td>\n",
       "    </tr>\n",
       "    <tr>\n",
       "      <th>2</th>\n",
       "      <td>0.020278</td>\n",
       "      <td>0.211989</td>\n",
       "      <td>0.000615</td>\n",
       "      <td>0.107143</td>\n",
       "      <td>0</td>\n",
       "      <td>0</td>\n",
       "      <td>0</td>\n",
       "      <td>0</td>\n",
       "      <td>0</td>\n",
       "      <td>0</td>\n",
       "      <td>...</td>\n",
       "      <td>0</td>\n",
       "      <td>0</td>\n",
       "      <td>0</td>\n",
       "      <td>0</td>\n",
       "      <td>0</td>\n",
       "      <td>0</td>\n",
       "      <td>0</td>\n",
       "      <td>0</td>\n",
       "      <td>0</td>\n",
       "      <td>0</td>\n",
       "    </tr>\n",
       "    <tr>\n",
       "      <th>3</th>\n",
       "      <td>0.020556</td>\n",
       "      <td>0.044095</td>\n",
       "      <td>0.003692</td>\n",
       "      <td>0.062500</td>\n",
       "      <td>0</td>\n",
       "      <td>0</td>\n",
       "      <td>0</td>\n",
       "      <td>0</td>\n",
       "      <td>0</td>\n",
       "      <td>0</td>\n",
       "      <td>...</td>\n",
       "      <td>0</td>\n",
       "      <td>0</td>\n",
       "      <td>0</td>\n",
       "      <td>0</td>\n",
       "      <td>0</td>\n",
       "      <td>0</td>\n",
       "      <td>0</td>\n",
       "      <td>0</td>\n",
       "      <td>0</td>\n",
       "      <td>1</td>\n",
       "    </tr>\n",
       "    <tr>\n",
       "      <th>4</th>\n",
       "      <td>0.020278</td>\n",
       "      <td>0.034278</td>\n",
       "      <td>0.022154</td>\n",
       "      <td>0.068750</td>\n",
       "      <td>0</td>\n",
       "      <td>0</td>\n",
       "      <td>0</td>\n",
       "      <td>0</td>\n",
       "      <td>1</td>\n",
       "      <td>0</td>\n",
       "      <td>...</td>\n",
       "      <td>0</td>\n",
       "      <td>0</td>\n",
       "      <td>0</td>\n",
       "      <td>0</td>\n",
       "      <td>0</td>\n",
       "      <td>0</td>\n",
       "      <td>1</td>\n",
       "      <td>0</td>\n",
       "      <td>0</td>\n",
       "      <td>0</td>\n",
       "    </tr>\n",
       "  </tbody>\n",
       "</table>\n",
       "<p>5 rows × 306 columns</p>\n",
       "</div>"
      ],
      "text/plain": [
       "        ups       dal  word_count  up_low_ratio  about  actually  after  \\\n",
       "0  0.020278  0.027289    0.007385      0.019608      0         0      0   \n",
       "1  0.020833  0.023670    0.005538      0.062500      0         0      0   \n",
       "2  0.020278  0.211989    0.000615      0.107143      0         0      0   \n",
       "3  0.020556  0.044095    0.003692      0.062500      0         0      0   \n",
       "4  0.020278  0.034278    0.022154      0.068750      0         0      0   \n",
       "\n",
       "   again  ago  all  ...  work  world  would  wow  wrong  yeah  year  yes  you  \\\n",
       "0      0    0    0  ...     0      0      0    0      0     0     0    0    0   \n",
       "1      0    0    0  ...     1      0      0    0      0     0     0    0    0   \n",
       "2      0    0    0  ...     0      0      0    0      0     0     0    0    0   \n",
       "3      0    0    0  ...     0      0      0    0      0     0     0    0    0   \n",
       "4      0    1    0  ...     0      0      0    0      0     0     1    0    0   \n",
       "\n",
       "   your  \n",
       "0     0  \n",
       "1     0  \n",
       "2     0  \n",
       "3     1  \n",
       "4     0  \n",
       "\n",
       "[5 rows x 306 columns]"
      ]
     },
     "execution_count": 11,
     "metadata": {},
     "output_type": "execute_result"
    }
   ],
   "source": [
    "X_train_scaled_plus.head()"
   ]
  },
  {
   "cell_type": "markdown",
   "id": "208f6fc8",
   "metadata": {},
   "source": [
    "## Logistic Regression"
   ]
  },
  {
   "cell_type": "code",
   "execution_count": 13,
   "id": "978fecd7",
   "metadata": {
    "scrolled": false
   },
   "outputs": [
    {
     "name": "stdout",
     "output_type": "stream",
     "text": [
      "For ROC AUC \n",
      "\n",
      "Accuracy: 0.7787652645861602\n",
      "              precision    recall  f1-score   support\n",
      "\n",
      "           0       0.95      0.99      0.97      1340\n",
      "           1       0.52      0.14      0.22        88\n",
      "\n",
      "    accuracy                           0.94      1428\n",
      "   macro avg       0.73      0.56      0.59      1428\n",
      "weighted avg       0.92      0.94      0.92      1428\n",
      "\n",
      "Tuned Model Parameters: {'C': 0.1623776739188721, 'penalty': 'l2'}\n",
      "Precision_score:  0.5217391304347826\n",
      "Recall_score:  0.13636363636363635\n",
      "Matthew Corr: 0.24480829518002892\n",
      "ROC AUC score: 0.7787652645861602\n"
     ]
    },
    {
     "data": {
      "image/png": "[encoded data removed]",
      "text/plain": [
       "<Figure size 432x288 with 2 Axes>"
      ]
     },
     "metadata": {
      "needs_background": "light"
     },
     "output_type": "display_data"
    }
   ],
   "source": [
    "classifier = LogisticRegression(solver='liblinear', random_state=26)\n",
    "parameter_grid = {\n",
    "                    'penalty' : ['l1', 'l2'],\n",
    "                    'C' : np.logspace(-5, 5, 20)\n",
    "                    }\n",
    "lcv = GridSearchCV(classifier, parameter_grid, scoring='roc_auc', error_score='raise', cv=4)\n",
    "lcv.fit(X_train_scaled_plus, y=y_train1)\n",
    "\n",
    "y_pred = lcv.predict(X_val_scaled_plus)\n",
    "\n",
    "lcm = confusion_matrix(y_val1, y_pred, labels=lcv.classes_)\n",
    "# Compute and print metrics\n",
    "print('For ROC AUC','\\n')\n",
    "print(\"Accuracy: {}\".format(lcv.score(X_val_scaled_plus, y_val1)))\n",
    "print(classification_report(y_val1, y_pred))\n",
    "print(\"Tuned Model Parameters: {}\".format(lcv.best_params_))\n",
    "print('Precision_score: ',precision_score(y_val1, y_pred))\n",
    "print('Recall_score: ',recall_score(y_val1, y_pred))\n",
    "print('ROC AUC score:',roc_auc_score(y_val1, lcv.predict_proba(X_val_scaled_plus)[:, 1]))\n",
    "disp = ConfusionMatrixDisplay(lcm, display_labels=lcv.classes_)\n",
    "disp.plot()\n",
    "plt.show()"
   ]
  },
  {
   "cell_type": "code",
   "execution_count": 12,
   "id": "134d3d1b",
   "metadata": {
    "scrolled": false
   },
   "outputs": [
    {
     "name": "stdout",
     "output_type": "stream",
     "text": [
      "0.8095191655359568\n"
     ]
    }
   ],
   "source": [
    "best_logreg_classifier = LogisticRegression(C=0.1623776739188721, penalty='l1', solver='liblinear', random_state=26)\n",
    "logisticm = best_logreg_classifier.fit(X_train_scaled_plus, y=y_train1)\n",
    "logisticauc = roc_auc_score(y_val1, logisticm.predict_proba(X_val_scaled_plus)[:, 1])\n",
    "print(logisticauc)\n",
    "lfpr, ltpr, lthresholds = roc_curve(y_val1, logisticm.predict_proba(X_val_scaled_plus)[:, 1])"
   ]
  },
  {
   "cell_type": "markdown",
   "id": "ac59cb69",
   "metadata": {},
   "source": [
    "## RandomForestClassifier "
   ]
  },
  {
   "cell_type": "code",
   "execution_count": 1,
   "id": "a933dc78",
   "metadata": {
    "collapsed": true
   },
   "outputs": [
    {
     "data": {
      "text/plain": [
       "'\\nfclassifier = RandomForestClassifier(random_state=26)\\n\\n\\nparameter_grid = {\\n                    \\'criterion\\': [\"gini\", \"entropy\", \"log_loss\"],\\n                    \\'max_depth\\': [5, 10, 15, 30, 50, 70],\\n                    \\'n_estimators\\': [15, 50, 100, 200, 500],\\n                    \\'max_features\\': [None]\\n                \\n                    }\\nfcv = GridSearchCV(fclassifier, parameter_grid, scoring=\\'roc_auc\\', error_score=\\'raise\\', cv=4)\\nfcv.fit(X_train_scaled_plus, y=y_train1)\\n\\n# Predict the labels of the test set: y_pred\\nfy_pred = fcv.predict(X_val_scaled_plus)\\n#cv.predict_proba() Threshold \\n#y_pred_new_threshold = (lcv.predict_proba(X_val_scaled_plus)[:,1]>=0.20).astype(int)\\n#matthew\\'s correlation coefficient try\\n\\nfcm = confusion_matrix(y_val1, fy_pred, labels=fcv.classes_)\\n# Compute and print metrics\\nprint(\\'For ROC AUC\\',\\'\\n\\')\\nprint(\"Accuracy: {}\".format(fcv.score(X_val_scaled_plus, y_val1)))\\nprint(classification_report(y_val1, fy_pred))\\nprint(\"Tuned Model Parameters: {}\".format(fcv.best_params_))\\nprint(\\'Precision_score: \\',precision_score(y_val1, fy_pred))\\nprint(\\'Recall_score: \\',recall_score(y_val1, fy_pred))\\nprint(\\'Matthew Corr:\\', matthews_corrcoef(y_val1, fy_pred))\\nprint(\\'ROC AUC score:\\',roc_auc_score(y_val1, fcv.predict_proba(X_val_scaled_plus)[:, 1]))\\nfdisp = ConfusionMatrixDisplay(fcm, display_labels=fcv.classes_)\\nfdisp.plot()\\nplt.show()'"
      ]
     },
     "execution_count": 1,
     "metadata": {},
     "output_type": "execute_result"
    }
   ],
   "source": [
    "'''\n",
    "fclassifier = RandomForestClassifier(random_state=26)\n",
    "\n",
    "\n",
    "parameter_grid = {\n",
    "                    'criterion': [\"gini\", \"entropy\", \"log_loss\"],\n",
    "                    'max_depth': [5, 10, 15, 30, 50, 70],\n",
    "                    'n_estimators': [15, 50, 100, 200, 500],\n",
    "                    'max_features': [None]\n",
    "                \n",
    "                    }\n",
    "fcv = GridSearchCV(fclassifier, parameter_grid, scoring='roc_auc', error_score='raise', cv=4)\n",
    "fcv.fit(X_train_scaled_plus, y=y_train1)\n",
    "\n",
    "# Predict the labels of the test set: y_pred\n",
    "fy_pred = fcv.predict(X_val_scaled_plus)\n",
    "#cv.predict_proba() Threshold \n",
    "#y_pred_new_threshold = (lcv.predict_proba(X_val_scaled_plus)[:,1]>=0.20).astype(int)\n",
    "#matthew's correlation coefficient try\n",
    "\n",
    "fcm = confusion_matrix(y_val1, fy_pred, labels=fcv.classes_)\n",
    "# Compute and print metrics\n",
    "print('For ROC AUC','\\n')\n",
    "print(\"Accuracy: {}\".format(fcv.score(X_val_scaled_plus, y_val1)))\n",
    "print(classification_report(y_val1, fy_pred))\n",
    "print(\"Tuned Model Parameters: {}\".format(fcv.best_params_))\n",
    "print('Precision_score: ',precision_score(y_val1, fy_pred))\n",
    "print('Recall_score: ',recall_score(y_val1, fy_pred))\n",
    "print('Matthew Corr:', matthews_corrcoef(y_val1, fy_pred))\n",
    "print('ROC AUC score:',roc_auc_score(y_val1, fcv.predict_proba(X_val_scaled_plus)[:, 1]))\n",
    "fdisp = ConfusionMatrixDisplay(fcm, display_labels=fcv.classes_)\n",
    "fdisp.plot()\n",
    "plt.show()'''"
   ]
  },
  {
   "cell_type": "code",
   "execution_count": 13,
   "id": "0a379df8",
   "metadata": {
    "scrolled": false
   },
   "outputs": [
    {
     "name": "stdout",
     "output_type": "stream",
     "text": [
      "0.8378646540027136\n"
     ]
    }
   ],
   "source": [
    "best_random_forest = RandomForestClassifier(criterion='entropy', max_depth=15, max_features=None, n_estimators=500)\n",
    "forestm = best_random_forest.fit(X_train_scaled_plus, y=y_train1)\n",
    "forestauc = roc_auc_score(y_val1, forestm.predict_proba(X_val_scaled_plus)[:, 1])\n",
    "print(forestauc)\n",
    "\n",
    "ffpr, ftpr, fthresholds = roc_curve(y_val1, forestm.predict_proba(X_val_scaled_plus)[:, 1])"
   ]
  },
  {
   "cell_type": "markdown",
   "id": "95051d0b",
   "metadata": {},
   "source": [
    "## Support Vector Machine "
   ]
  },
  {
   "cell_type": "code",
   "execution_count": 15,
   "id": "823b6951",
   "metadata": {
    "collapsed": true,
    "scrolled": false
   },
   "outputs": [
    {
     "data": {
      "text/plain": [
       "'sclassifier = SVC(random_state=26, probability=True)\\nparameter_grid = {\\n                    \\'kernel\\': [\\'rbf\\'],\\n                    \\'C\\': [0.1, 1, 10, 100, 1000], \\n                    \\'gamma\\': [1, 0.1, 0.01, 0.001, 0.0001],\\n                    }\\nscv = GridSearchCV(sclassifier, parameter_grid, scoring=\\'roc_auc\\', error_score=\\'raise\\', cv=4)\\nscv.fit(X_train_scaled_plus, y=y_train1)\\n\\n# Predict the labels of the test set: y_pred\\nsy_pred = scv.predict(X_val_scaled_plus)\\n#cv.predict_proba() Threshold \\n#y_pred_new_threshold = (lcv.predict_proba(X_val_scaled_plus)[:,1]>=0.20).astype(int)\\n#matthew\\'s correlation coefficient try\\n\\nscm = confusion_matrix(y_val1, sy_pred, labels=scv.classes_)\\n# Compute and print metrics\\nprint(\\'For ROC AUC\\',\\'\\n\\')\\nprint(\"Accuracy: {}\".format(scv.score(X_val_scaled_plus, y_val1)))\\nprint(classification_report(y_val1, sy_pred))\\nprint(\"Tuned Model Parameters: {}\".format(scv.best_params_))\\nprint(\\'Precision_score: \\',precision_score(y_val1, sy_pred))\\nprint(\\'Recall_score: \\',recall_score(y_val1, sy_pred))\\nprint(\\'Matthew Corr:\\', matthews_corrcoef(y_val1, fy_pred))\\nprint(\\'ROC AUC score:\\',roc_auc_score(y_val1, scv.predict_proba(X_val_scaled_plus)[:, 1]))\\nsdisp = ConfusionMatrixDisplay(scm, display_labels=scv.classes_)\\nsdisp.plot()\\nplt.show()'"
      ]
     },
     "execution_count": 15,
     "metadata": {},
     "output_type": "execute_result"
    }
   ],
   "source": [
    "'''sclassifier = SVC(random_state=26, probability=True)\n",
    "parameter_grid = {\n",
    "                    'kernel': ['rbf'],\n",
    "                    'C': [0.1, 1, 10, 100, 1000], \n",
    "                    'gamma': [1, 0.1, 0.01, 0.001, 0.0001],\n",
    "                    }\n",
    "scv = GridSearchCV(sclassifier, parameter_grid, scoring='roc_auc', error_score='raise', cv=4)\n",
    "scv.fit(X_train_scaled_plus, y=y_train1)\n",
    "\n",
    "# Predict the labels of the test set: y_pred\n",
    "sy_pred = scv.predict(X_val_scaled_plus)\n",
    "#cv.predict_proba() Threshold \n",
    "#y_pred_new_threshold = (lcv.predict_proba(X_val_scaled_plus)[:,1]>=0.20).astype(int)\n",
    "#matthew's correlation coefficient try\n",
    "\n",
    "scm = confusion_matrix(y_val1, sy_pred, labels=scv.classes_)\n",
    "# Compute and print metrics\n",
    "print('For ROC AUC','\\n')\n",
    "print(\"Accuracy: {}\".format(scv.score(X_val_scaled_plus, y_val1)))\n",
    "print(classification_report(y_val1, sy_pred))\n",
    "print(\"Tuned Model Parameters: {}\".format(scv.best_params_))\n",
    "print('Precision_score: ',precision_score(y_val1, sy_pred))\n",
    "print('Recall_score: ',recall_score(y_val1, sy_pred))\n",
    "print('Matthew Corr:', matthews_corrcoef(y_val1, fy_pred))\n",
    "print('ROC AUC score:',roc_auc_score(y_val1, scv.predict_proba(X_val_scaled_plus)[:, 1]))\n",
    "sdisp = ConfusionMatrixDisplay(scm, display_labels=scv.classes_)\n",
    "sdisp.plot()\n",
    "plt.show()'''"
   ]
  },
  {
   "cell_type": "code",
   "execution_count": 14,
   "id": "cb8bbf5c",
   "metadata": {
    "scrolled": false
   },
   "outputs": [
    {
     "name": "stdout",
     "output_type": "stream",
     "text": [
      "0.788225067842605\n"
     ]
    }
   ],
   "source": [
    "best_svm_classifier = SVC(C=1, gamma=0.1, kernel='rbf', random_state=26, probability=True)\n",
    "supportvm = best_svm_classifier.fit(X_train_scaled_plus, y_train1)\n",
    "svmauc = roc_auc_score(y_val1, supportvm.predict_proba(X_val_scaled_plus)[:, 1])\n",
    "print(svmauc)\n",
    "\n",
    "sfpr, stpr, sthresholds = roc_curve(y_val1, supportvm.predict_proba(X_val_scaled_plus)[:, 1])"
   ]
  },
  {
   "cell_type": "markdown",
   "id": "bf6a710a",
   "metadata": {},
   "source": [
    "## Gradient Boosting "
   ]
  },
  {
   "cell_type": "code",
   "execution_count": 17,
   "id": "9d49d379",
   "metadata": {
    "collapsed": true,
    "scrolled": false
   },
   "outputs": [
    {
     "data": {
      "text/plain": [
       "'gboostclassifier = GradientBoostingClassifier(random_state=26)\\nparameter_grid = {\\n                    \\'learning_rate\\': [0.1, 1, 3, 10, 100, 500, 1000],\\n                    \\'n_estimators\\': [14, 16, 50, 100, 200, 500], \\n                    \\'max_depth\\': [6, 8, 10, 15, 20, 30]\\n                    }\\ngbcv = GridSearchCV(gboostclassifier, parameter_grid, scoring=\\'roc_auc\\', error_score=\\'raise\\', cv=4)\\ngbcv.fit(X_train_scaled_plus, y=y_train1)\\n\\n# Predict the labels of the test set: y_pred\\ngy_pred = gbcv.predict(X_val_scaled_plus)\\n#cv.predict_proba() Threshold \\n#y_pred_new_threshold = (lcv.predict_proba(X_val_scaled_plus)[:,1]>=0.20).astype(int)\\n#matthew\\'s correlation coefficient try\\n\\ngbcm = confusion_matrix(y_val1, gy_pred, labels=gbcv.classes_)\\n# Compute and print metrics\\nprint(\\'For ROC AUC\\',\\'\\n\\')\\nprint(\"Accuracy: {}\".format(gbcv.score(X_val_scaled_plus, y_val1)))\\nprint(classification_report(y_val1, gy_pred))\\nprint(\"Tuned Model Parameters: {}\".format(gbcv.best_params_))\\nprint(\\'Precision_score: \\',precision_score(y_val1, gy_pred))\\nprint(\\'Recall_score: \\',recall_score(y_val1, gy_pred))\\nprint(\\'Matthew Corr:\\', matthews_corrcoef(y_val1, gy_pred))\\nprint(\\'ROC AUC score:\\',roc_auc_score(y_val1, gbcv.predict_proba(X_val_scaled_plus)[:, 1]))\\ngdisp = ConfusionMatrixDisplay(gbcm, display_labels=gbcv.classes_)\\ngdisp.plot()\\nplt.show()'"
      ]
     },
     "execution_count": 17,
     "metadata": {},
     "output_type": "execute_result"
    }
   ],
   "source": [
    "'''gboostclassifier = GradientBoostingClassifier(random_state=26)\n",
    "parameter_grid = {\n",
    "                    'learning_rate': [0.1, 1, 3, 10, 100, 500, 1000],\n",
    "                    'n_estimators': [14, 16, 50, 100, 200, 500], \n",
    "                    'max_depth': [6, 8, 10, 15, 20, 30]\n",
    "                    }\n",
    "gbcv = GridSearchCV(gboostclassifier, parameter_grid, scoring='roc_auc', error_score='raise', cv=4)\n",
    "gbcv.fit(X_train_scaled_plus, y=y_train1)\n",
    "\n",
    "# Predict the labels of the test set: y_pred\n",
    "gy_pred = gbcv.predict(X_val_scaled_plus)\n",
    "#cv.predict_proba() Threshold \n",
    "#y_pred_new_threshold = (lcv.predict_proba(X_val_scaled_plus)[:,1]>=0.20).astype(int)\n",
    "#matthew's correlation coefficient try\n",
    "\n",
    "gbcm = confusion_matrix(y_val1, gy_pred, labels=gbcv.classes_)\n",
    "# Compute and print metrics\n",
    "print('For ROC AUC','\\n')\n",
    "print(\"Accuracy: {}\".format(gbcv.score(X_val_scaled_plus, y_val1)))\n",
    "print(classification_report(y_val1, gy_pred))\n",
    "print(\"Tuned Model Parameters: {}\".format(gbcv.best_params_))\n",
    "print('Precision_score: ',precision_score(y_val1, gy_pred))\n",
    "print('Recall_score: ',recall_score(y_val1, gy_pred))\n",
    "print('Matthew Corr:', matthews_corrcoef(y_val1, gy_pred))\n",
    "print('ROC AUC score:',roc_auc_score(y_val1, gbcv.predict_proba(X_val_scaled_plus)[:, 1]))\n",
    "gdisp = ConfusionMatrixDisplay(gbcm, display_labels=gbcv.classes_)\n",
    "gdisp.plot()\n",
    "plt.show()'''"
   ]
  },
  {
   "cell_type": "code",
   "execution_count": 15,
   "id": "2fea215a",
   "metadata": {
    "scrolled": false
   },
   "outputs": [
    {
     "name": "stdout",
     "output_type": "stream",
     "text": [
      "0.8218622795115332\n"
     ]
    }
   ],
   "source": [
    "best_gboostclassifier = GradientBoostingClassifier(learning_rate=0.1, max_depth=6, n_estimators=100, random_state=26)\n",
    "gradientbm = best_gboostclassifier.fit(X_train_scaled_plus, y=y_train1)\n",
    "gradientauc = roc_auc_score(y_val1, gradientbm.predict_proba(X_val_scaled_plus)[:, 1])\n",
    "print(gradientauc)\n",
    "gfpr, gtpr, gthresholds = roc_curve(y_val1, gradientbm.predict_proba(X_val_scaled_plus)[:, 1])"
   ]
  },
  {
   "cell_type": "markdown",
   "id": "401ee41a",
   "metadata": {},
   "source": [
    "## Choosing the Best Model"
   ]
  },
  {
   "cell_type": "code",
   "execution_count": 16,
   "id": "9960d4b7",
   "metadata": {},
   "outputs": [
    {
     "data": {
      "image/png": "[encoded data removed]",
      "text/plain": [
       "<Figure size 792x504 with 1 Axes>"
      ]
     },
     "metadata": {},
     "output_type": "display_data"
    }
   ],
   "source": [
    "from sklearn.metrics import auc\n",
    "import matplotlib.style\n",
    "import matplotlib as mpl\n",
    "mpl.style.use('seaborn')\n",
    "\n",
    "plt.figure(figsize=(11,7))\n",
    "for fpr, tpr, model, color in [(lfpr, ltpr, 'Logistic Regression', 'blue'), (ffpr, ftpr, 'Random Forest', 'green'), (sfpr, stpr, 'SVM', 'yellow'), (gfpr, gtpr, 'Gradient Boosting', 'red')]:\n",
    "    aucs = auc(fpr, tpr)\n",
    "    plt.plot(fpr, tpr, c=color, alpha=0.8, label=model +', AUC= '+str(round(aucs, 3)))\n",
    "\n",
    "\n",
    "plt.plot([0, 1], [0, 1], linestyle='--', c='black', alpha=0.6)\n",
    "plt.title('ROC-AUC Model Comparison')\n",
    "plt.xlabel('False Positive Rate')\n",
    "plt.ylabel('True Positive Rate')\n",
    "plt.legend(loc='lower right')\n",
    "plt.show()\n"
   ]
  },
  {
   "cell_type": "markdown",
   "id": "acc52a39",
   "metadata": {},
   "source": [
    "Logistic Regression clearly outperformed all other models in terms of ROC-AUC. "
   ]
  },
  {
   "cell_type": "markdown",
   "id": "761bbcf9",
   "metadata": {},
   "source": [
    "## Final Model Performance Test "
   ]
  },
  {
   "cell_type": "markdown",
   "id": "2fdf2b41",
   "metadata": {},
   "source": [
    "Combine train and validation sets, Count Vectorize on combined data and transform test set"
   ]
  },
  {
   "cell_type": "code",
   "execution_count": 17,
   "id": "074106ac",
   "metadata": {
    "scrolled": false
   },
   "outputs": [],
   "source": [
    "X_final_train_scaled_plus = get_add_word_matrix(X_final_train_scaled)\n",
    "X_test_scaled_plus = get_add_word_matrix(X_test_scaled)"
   ]
  },
  {
   "cell_type": "code",
   "execution_count": 18,
   "id": "5ef3b4ed",
   "metadata": {},
   "outputs": [
    {
     "data": {
      "text/plain": [
       "(7137, 313)"
      ]
     },
     "execution_count": 18,
     "metadata": {},
     "output_type": "execute_result"
    }
   ],
   "source": [
    "X_final_train_scaled_plus.shape"
   ]
  },
  {
   "cell_type": "code",
   "execution_count": 19,
   "id": "f039c4b8",
   "metadata": {},
   "outputs": [
    {
     "data": {
      "text/html": [
       "<div>\n",
       "<style scoped>\n",
       "    .dataframe tbody tr th:only-of-type {\n",
       "        vertical-align: middle;\n",
       "    }\n",
       "\n",
       "    .dataframe tbody tr th {\n",
       "        vertical-align: top;\n",
       "    }\n",
       "\n",
       "    .dataframe thead th {\n",
       "        text-align: right;\n",
       "    }\n",
       "</style>\n",
       "<table border=\"1\" class=\"dataframe\">\n",
       "  <thead>\n",
       "    <tr style=\"text-align: right;\">\n",
       "      <th></th>\n",
       "      <th>ups</th>\n",
       "      <th>dal</th>\n",
       "      <th>word_count</th>\n",
       "      <th>up_low_ratio</th>\n",
       "      <th>disgust_x</th>\n",
       "      <th>surprise_x</th>\n",
       "      <th>neutral_x</th>\n",
       "      <th>anger_x</th>\n",
       "      <th>sad_x</th>\n",
       "      <th>happy_x</th>\n",
       "      <th>...</th>\n",
       "      <th>work</th>\n",
       "      <th>world</th>\n",
       "      <th>would</th>\n",
       "      <th>wow</th>\n",
       "      <th>wrong</th>\n",
       "      <th>yeah</th>\n",
       "      <th>year</th>\n",
       "      <th>yes</th>\n",
       "      <th>you</th>\n",
       "      <th>your</th>\n",
       "    </tr>\n",
       "  </thead>\n",
       "  <tbody>\n",
       "    <tr>\n",
       "      <th>0</th>\n",
       "      <td>0.025833</td>\n",
       "      <td>0.019307</td>\n",
       "      <td>0.044923</td>\n",
       "      <td>0.019481</td>\n",
       "      <td>0.041148</td>\n",
       "      <td>0.162227</td>\n",
       "      <td>0.026281</td>\n",
       "      <td>0.083970</td>\n",
       "      <td>0.157177</td>\n",
       "      <td>0.187280</td>\n",
       "      <td>...</td>\n",
       "      <td>0</td>\n",
       "      <td>1</td>\n",
       "      <td>0</td>\n",
       "      <td>0</td>\n",
       "      <td>0</td>\n",
       "      <td>0</td>\n",
       "      <td>0</td>\n",
       "      <td>0</td>\n",
       "      <td>0</td>\n",
       "      <td>0</td>\n",
       "    </tr>\n",
       "    <tr>\n",
       "      <th>1</th>\n",
       "      <td>0.020000</td>\n",
       "      <td>0.017889</td>\n",
       "      <td>0.007385</td>\n",
       "      <td>0.065217</td>\n",
       "      <td>0.000000</td>\n",
       "      <td>0.000000</td>\n",
       "      <td>0.000000</td>\n",
       "      <td>0.000000</td>\n",
       "      <td>0.000000</td>\n",
       "      <td>0.000000</td>\n",
       "      <td>...</td>\n",
       "      <td>0</td>\n",
       "      <td>0</td>\n",
       "      <td>0</td>\n",
       "      <td>0</td>\n",
       "      <td>0</td>\n",
       "      <td>0</td>\n",
       "      <td>0</td>\n",
       "      <td>0</td>\n",
       "      <td>0</td>\n",
       "      <td>0</td>\n",
       "    </tr>\n",
       "    <tr>\n",
       "      <th>2</th>\n",
       "      <td>0.020556</td>\n",
       "      <td>0.024679</td>\n",
       "      <td>0.006769</td>\n",
       "      <td>0.065217</td>\n",
       "      <td>0.070143</td>\n",
       "      <td>0.150859</td>\n",
       "      <td>0.018771</td>\n",
       "      <td>0.192654</td>\n",
       "      <td>0.220132</td>\n",
       "      <td>0.371625</td>\n",
       "      <td>...</td>\n",
       "      <td>0</td>\n",
       "      <td>0</td>\n",
       "      <td>0</td>\n",
       "      <td>0</td>\n",
       "      <td>0</td>\n",
       "      <td>0</td>\n",
       "      <td>0</td>\n",
       "      <td>0</td>\n",
       "      <td>0</td>\n",
       "      <td>0</td>\n",
       "    </tr>\n",
       "    <tr>\n",
       "      <th>3</th>\n",
       "      <td>0.020556</td>\n",
       "      <td>0.015162</td>\n",
       "      <td>0.024000</td>\n",
       "      <td>0.040541</td>\n",
       "      <td>0.001692</td>\n",
       "      <td>0.222616</td>\n",
       "      <td>0.005096</td>\n",
       "      <td>0.179521</td>\n",
       "      <td>0.263892</td>\n",
       "      <td>0.144477</td>\n",
       "      <td>...</td>\n",
       "      <td>0</td>\n",
       "      <td>0</td>\n",
       "      <td>0</td>\n",
       "      <td>0</td>\n",
       "      <td>0</td>\n",
       "      <td>0</td>\n",
       "      <td>0</td>\n",
       "      <td>0</td>\n",
       "      <td>0</td>\n",
       "      <td>0</td>\n",
       "    </tr>\n",
       "    <tr>\n",
       "      <th>4</th>\n",
       "      <td>0.050556</td>\n",
       "      <td>0.001091</td>\n",
       "      <td>0.006154</td>\n",
       "      <td>0.026316</td>\n",
       "      <td>0.006342</td>\n",
       "      <td>0.137554</td>\n",
       "      <td>0.851380</td>\n",
       "      <td>0.060101</td>\n",
       "      <td>0.080807</td>\n",
       "      <td>0.475921</td>\n",
       "      <td>...</td>\n",
       "      <td>0</td>\n",
       "      <td>0</td>\n",
       "      <td>0</td>\n",
       "      <td>0</td>\n",
       "      <td>0</td>\n",
       "      <td>0</td>\n",
       "      <td>1</td>\n",
       "      <td>0</td>\n",
       "      <td>0</td>\n",
       "      <td>0</td>\n",
       "    </tr>\n",
       "  </tbody>\n",
       "</table>\n",
       "<p>5 rows × 313 columns</p>\n",
       "</div>"
      ],
      "text/plain": [
       "        ups       dal  word_count  up_low_ratio  disgust_x  surprise_x  \\\n",
       "0  0.025833  0.019307    0.044923      0.019481   0.041148    0.162227   \n",
       "1  0.020000  0.017889    0.007385      0.065217   0.000000    0.000000   \n",
       "2  0.020556  0.024679    0.006769      0.065217   0.070143    0.150859   \n",
       "3  0.020556  0.015162    0.024000      0.040541   0.001692    0.222616   \n",
       "4  0.050556  0.001091    0.006154      0.026316   0.006342    0.137554   \n",
       "\n",
       "   neutral_x   anger_x     sad_x   happy_x  ...  work  world  would  wow  \\\n",
       "0   0.026281  0.083970  0.157177  0.187280  ...     0      1      0    0   \n",
       "1   0.000000  0.000000  0.000000  0.000000  ...     0      0      0    0   \n",
       "2   0.018771  0.192654  0.220132  0.371625  ...     0      0      0    0   \n",
       "3   0.005096  0.179521  0.263892  0.144477  ...     0      0      0    0   \n",
       "4   0.851380  0.060101  0.080807  0.475921  ...     0      0      0    0   \n",
       "\n",
       "   wrong  yeah  year  yes  you  your  \n",
       "0      0     0     0    0    0     0  \n",
       "1      0     0     0    0    0     0  \n",
       "2      0     0     0    0    0     0  \n",
       "3      0     0     0    0    0     0  \n",
       "4      0     0     1    0    0     0  \n",
       "\n",
       "[5 rows x 313 columns]"
      ]
     },
     "execution_count": 19,
     "metadata": {},
     "output_type": "execute_result"
    }
   ],
   "source": [
    "X_final_train_scaled_plus.head()"
   ]
  },
  {
   "cell_type": "code",
   "execution_count": 20,
   "id": "9a2faa48",
   "metadata": {
    "scrolled": false
   },
   "outputs": [],
   "source": [
    "y_final_train1 = y_final_train*1\n",
    "y_final_train1 = y_final_train1.drop(columns='Unnamed: 0')\n",
    "y_final_train1 = y_final_train1.to_numpy().ravel()\n",
    "\n",
    "y_test1 = y_test*1\n",
    "y_test1 = y_test1.drop(columns='Unnamed: 0')\n",
    "y_test1 = y_test1.to_numpy().ravel()"
   ]
  },
  {
   "cell_type": "code",
   "execution_count": 21,
   "id": "9a3a5e13",
   "metadata": {},
   "outputs": [
    {
     "name": "stdout",
     "output_type": "stream",
     "text": [
      "Recall/Hit Rate: 0.09090909090909091\n",
      "False Positive Score: 0.007\n",
      "Flag Percentage: 0.012\n"
     ]
    },
    {
     "data": {
      "image/png": "[encoded data removed]",
      "text/plain": [
       "<Figure size 640x480 with 2 Axes>"
      ]
     },
     "metadata": {},
     "output_type": "display_data"
    },
    {
     "name": "stdout",
     "output_type": "stream",
     "text": [
      "\n",
      "Percent of Total\n"
     ]
    },
    {
     "data": {
      "image/png": "[encoded data removed]",
      "text/plain": [
       "<Figure size 640x480 with 2 Axes>"
      ]
     },
     "metadata": {},
     "output_type": "display_data"
    }
   ],
   "source": [
    "final_model_fitted = best_logreg_classifier.fit(X_final_train_scaled_plus, y_final_train1)\n",
    "y_pred_final_m = final_model_fitted.predict(X_test_scaled_plus)\n",
    "\n",
    "\n",
    "final_matrix = confusion_matrix(y_test1, y_pred_final_m, labels=final_model_fitted.classes_)\n",
    "final_matrix_plot = ConfusionMatrixDisplay(final_matrix, display_labels=final_model_fitted.classes_)\n",
    "tp = final_matrix[1,1]\n",
    "tn = final_matrix[0,0]\n",
    "fp = final_matrix[0,1]\n",
    "fn = final_matrix[1,0]\n",
    "    \n",
    "ffalse_positive_score = fp/(fp+tn)\n",
    "fflag_percentage = (fp+tp)/(tp+fp+tn+fn)\n",
    "print('Recall/Hit Rate:',recall_score(y_test1, y_pred_final_m))   \n",
    "print('False Positive Score: '+str(round(ffalse_positive_score, 3)))\n",
    "print('Flag Percentage: '+str(round(fflag_percentage, 3)))\n",
    "mpl.style.use('classic')\n",
    "final_matrix_plot.plot()\n",
    "plt.show()\n",
    "\n",
    "print('\\n'+'Percent of Total')\n",
    "percent_matrix = ConfusionMatrixDisplay(100*(final_matrix/np.sum(final_matrix)), display_labels=final_model_fitted.classes_)\n",
    "percent_matrix.plot()\n",
    "plt.show()\n",
    "\n"
   ]
  },
  {
   "cell_type": "code",
   "execution_count": null,
   "id": "4175c46f",
   "metadata": {
    "scrolled": false
   },
   "outputs": [],
   "source": []
  },
  {
   "cell_type": "markdown",
   "id": "972a717a",
   "metadata": {},
   "source": [
    "## Choosing the Threshold"
   ]
  },
  {
   "cell_type": "code",
   "execution_count": 22,
   "id": "bcc1db3a",
   "metadata": {
    "scrolled": false
   },
   "outputs": [],
   "source": [
    "def final_metrics(model, X_test, y_test, threshold):\n",
    "    y_pred = (model.predict_proba(X_test)[:,1] >= threshold).astype('int')\n",
    "    c_matrix = confusion_matrix(y_test, y_pred)\n",
    "    \n",
    "    tp = c_matrix[1,1]\n",
    "    tn = c_matrix[0,0]\n",
    "    fp = c_matrix[0,1]\n",
    "    fn = c_matrix[1,0]\n",
    "    \n",
    "    false_positive_score = fp/(fp+tn)\n",
    "    flag_percentage = (fp+tp)/(tp+fp+tn+fn)\n",
    "    return ([precision_score(y_test, y_pred), recall_score(y_test, y_pred), flag_percentage])\n",
    "    "
   ]
  },
  {
   "cell_type": "code",
   "execution_count": 23,
   "id": "1c15f4d2",
   "metadata": {
    "scrolled": false
   },
   "outputs": [],
   "source": [
    "threshold_df = pd.DataFrame(columns=['Precision','Recall','Flag_Percentage'])\n",
    "\n",
    "for threshold in np.arange(0.04,.8,.01):\n",
    "    \n",
    "    threshold_df.loc[threshold] = final_metrics(final_model_fitted, X_test_scaled_plus, y_test1, threshold)"
   ]
  },
  {
   "cell_type": "markdown",
   "id": "0887b067",
   "metadata": {},
   "source": [
    "We want to flag below 10% of all comments. This can easily be changed depending on the business case. We can see below that even a flag percentage of 4.08% results in a recall of 30.1%. "
   ]
  },
  {
   "cell_type": "code",
   "execution_count": 24,
   "id": "e39194d7",
   "metadata": {
    "scrolled": true
   },
   "outputs": [
    {
     "data": {
      "text/html": [
       "<div>\n",
       "<style scoped>\n",
       "    .dataframe tbody tr th:only-of-type {\n",
       "        vertical-align: middle;\n",
       "    }\n",
       "\n",
       "    .dataframe tbody tr th {\n",
       "        vertical-align: top;\n",
       "    }\n",
       "\n",
       "    .dataframe thead th {\n",
       "        text-align: right;\n",
       "    }\n",
       "</style>\n",
       "<table border=\"1\" class=\"dataframe\">\n",
       "  <thead>\n",
       "    <tr style=\"text-align: right;\">\n",
       "      <th></th>\n",
       "      <th>Precision</th>\n",
       "      <th>Recall</th>\n",
       "      <th>Flag_Percentage</th>\n",
       "    </tr>\n",
       "  </thead>\n",
       "  <tbody>\n",
       "    <tr>\n",
       "      <th>0.13</th>\n",
       "      <td>0.343373</td>\n",
       "      <td>0.518182</td>\n",
       "      <td>0.092997</td>\n",
       "    </tr>\n",
       "    <tr>\n",
       "      <th>0.14</th>\n",
       "      <td>0.380952</td>\n",
       "      <td>0.509091</td>\n",
       "      <td>0.082353</td>\n",
       "    </tr>\n",
       "    <tr>\n",
       "      <th>0.15</th>\n",
       "      <td>0.406015</td>\n",
       "      <td>0.490909</td>\n",
       "      <td>0.074510</td>\n",
       "    </tr>\n",
       "    <tr>\n",
       "      <th>0.16</th>\n",
       "      <td>0.415929</td>\n",
       "      <td>0.427273</td>\n",
       "      <td>0.063305</td>\n",
       "    </tr>\n",
       "    <tr>\n",
       "      <th>0.17</th>\n",
       "      <td>0.430000</td>\n",
       "      <td>0.390909</td>\n",
       "      <td>0.056022</td>\n",
       "    </tr>\n",
       "    <tr>\n",
       "      <th>0.18</th>\n",
       "      <td>0.419355</td>\n",
       "      <td>0.354545</td>\n",
       "      <td>0.052101</td>\n",
       "    </tr>\n",
       "    <tr>\n",
       "      <th>0.19</th>\n",
       "      <td>0.426829</td>\n",
       "      <td>0.318182</td>\n",
       "      <td>0.045938</td>\n",
       "    </tr>\n",
       "  </tbody>\n",
       "</table>\n",
       "</div>"
      ],
      "text/plain": [
       "      Precision    Recall  Flag_Percentage\n",
       "0.13   0.343373  0.518182         0.092997\n",
       "0.14   0.380952  0.509091         0.082353\n",
       "0.15   0.406015  0.490909         0.074510\n",
       "0.16   0.415929  0.427273         0.063305\n",
       "0.17   0.430000  0.390909         0.056022\n",
       "0.18   0.419355  0.354545         0.052101\n",
       "0.19   0.426829  0.318182         0.045938"
      ]
     },
     "execution_count": 24,
     "metadata": {},
     "output_type": "execute_result"
    }
   ],
   "source": [
    "threshold_df.loc[(threshold_df['Flag_Percentage'] <= 0.10) & (threshold_df['Recall'] > 0.30)]"
   ]
  },
  {
   "cell_type": "code",
   "execution_count": 25,
   "id": "a3d832d5",
   "metadata": {
    "scrolled": false
   },
   "outputs": [
    {
     "data": {
      "image/png": "[encoded data removed]",
      "text/plain": [
       "<Figure size 880x560 with 1 Axes>"
      ]
     },
     "metadata": {},
     "output_type": "display_data"
    }
   ],
   "source": [
    "mpl.style.use('seaborn')\n",
    "thresh_graph = threshold_df.plot(figsize=[11, 7])\n",
    "thresh_graph.set_title('Precision-Recall Curve vs. Threshold', fontsize=16)\n",
    "thresh_graph.set_xlabel('Threshold')\n",
    "thresh_graph.legend(fontsize='medium', loc='upper right')\n",
    "thresh_graph.axvline(0.5, c='black', alpha=0.5)\n",
    "thresh_graph.text(0.48, 0.60, 'Default Threshold 0.50', rotation=90, fontsize=13)\n",
    "thresh_graph.axvline(0.13, c='black', alpha=0.5)\n",
    "thresh_graph.text(0.11, 0.60, 'Optimal Threshold 0.13', rotation=90, fontsize=13)\n",
    "\n",
    "plt.show()"
   ]
  },
  {
   "cell_type": "code",
   "execution_count": 26,
   "id": "62227539",
   "metadata": {
    "scrolled": false
   },
   "outputs": [],
   "source": [
    "optimal_threshold = 0.13 #Optimal was 0.13 with original count vect min_df 0.01"
   ]
  },
  {
   "cell_type": "markdown",
   "id": "d2e5b233",
   "metadata": {},
   "source": [
    "### Final Optimized Model Report"
   ]
  },
  {
   "cell_type": "code",
   "execution_count": 27,
   "id": "52bc755a",
   "metadata": {
    "scrolled": false
   },
   "outputs": [
    {
     "name": "stdout",
     "output_type": "stream",
     "text": [
      "Recall/Hit Rate: 0.5181818181818182\n",
      "False Positive Score: 0.065\n",
      "Flag Percentage: 0.093\n",
      "              precision    recall  f1-score   support\n",
      "\n",
      "           0       0.97      0.93      0.95      1675\n",
      "           1       0.34      0.52      0.41       110\n",
      "\n",
      "    accuracy                           0.91      1785\n",
      "   macro avg       0.66      0.73      0.68      1785\n",
      "weighted avg       0.93      0.91      0.92      1785\n",
      "\n"
     ]
    },
    {
     "data": {
      "image/png": "[encoded data removed]",
      "text/plain": [
       "<Figure size 640x480 with 2 Axes>"
      ]
     },
     "metadata": {},
     "output_type": "display_data"
    },
    {
     "name": "stdout",
     "output_type": "stream",
     "text": [
      "\n",
      "Percent of Total\n"
     ]
    },
    {
     "data": {
      "image/png": "[encoded data removed]",
      "text/plain": [
       "<Figure size 640x480 with 2 Axes>"
      ]
     },
     "metadata": {},
     "output_type": "display_data"
    }
   ],
   "source": [
    "y_pred_final_threshold = (final_model_fitted.predict_proba(X_test_scaled_plus)[:, 1] >= optimal_threshold).astype('int')\n",
    "\n",
    "mpl.style.use('classic')\n",
    "\n",
    "final_matrix = confusion_matrix(y_test1, y_pred_final_threshold, labels=final_model_fitted.classes_)\n",
    "final_matrix_plot = ConfusionMatrixDisplay(final_matrix, display_labels=final_model_fitted.classes_)\n",
    "tp = final_matrix[1,1]\n",
    "tn = final_matrix[0,0]\n",
    "fp = final_matrix[0,1]\n",
    "fn = final_matrix[1,0]\n",
    "    \n",
    "ffalse_positive_score = fp/(fp+tn)\n",
    "fflag_percentage = (fp+tp)/(tp+fp+tn+fn)\n",
    "print('Recall/Hit Rate:',recall_score(y_test1, y_pred_final_threshold))   \n",
    "print('False Positive Score: '+str(round(ffalse_positive_score, 3)))\n",
    "print('Flag Percentage: '+str(round(fflag_percentage, 3)))\n",
    "print(classification_report(y_test1, y_pred_final_threshold))\n",
    "final_matrix_plot.plot()\n",
    "plt.show()\n",
    "\n",
    "print('\\n'+'Percent of Total')\n",
    "percent_matrix = ConfusionMatrixDisplay(100*(final_matrix/np.sum(final_matrix)), display_labels=final_model_fitted.classes_)\n",
    "percent_matrix.plot()\n",
    "plt.show()"
   ]
  },
  {
   "cell_type": "markdown",
   "id": "fc8a2ddd",
   "metadata": {},
   "source": [
    "### Taking a look at misclassifications"
   ]
  },
  {
   "cell_type": "code",
   "execution_count": 63,
   "id": "f7fdaf11",
   "metadata": {
    "scrolled": false
   },
   "outputs": [
    {
     "data": {
      "text/plain": [
       "array([0, 0, 0, ..., 0, 0, 1])"
      ]
     },
     "execution_count": 63,
     "metadata": {},
     "output_type": "execute_result"
    }
   ],
   "source": [
    "y_pred_final_threshold"
   ]
  },
  {
   "cell_type": "code",
   "execution_count": 73,
   "id": "fb83bf2b",
   "metadata": {
    "scrolled": false
   },
   "outputs": [
    {
     "data": {
      "text/plain": [
       "array([ 8,  9, 23, 55, 66, 74, 76, 79, 86, 89])"
      ]
     },
     "execution_count": 73,
     "metadata": {},
     "output_type": "execute_result"
    }
   ],
   "source": [
    "misclassified = np.where(y_test1 != y_pred_final_threshold)\n",
    "misclassified = misclassified[0]\n",
    "misclassified[:10]"
   ]
  },
  {
   "cell_type": "markdown",
   "id": "5636da17",
   "metadata": {},
   "source": [
    "## Future changes, improvements, and considerations"
   ]
  },
  {
   "cell_type": "markdown",
   "id": "245653c3",
   "metadata": {},
   "source": [
    "Since the speed of taking down a bigoted comment should be maximized, using the number of upvotes (or if available, downvotes) as a feature could become potentially less useful in practice depending on the team response time.\n",
    "\n",
    "The dataset was created to find both particularly toxic and supportive communities. See https://web.archive.org/web/20160304012220/http://idibon.com/toxicity-in-reddit-communities-a-journey-to-the-darkest-depths-of-the-interwebs/ \n",
    "It's possible that applying the final model to a platform or sub-group with a less extreme culture would result in less reliable metrics.\n",
    "\n"
   ]
  },
  {
   "cell_type": "code",
   "execution_count": null,
   "id": "a24c18e7",
   "metadata": {
    "collapsed": true,
    "scrolled": false
   },
   "outputs": [],
   "source": []
  }
 ],
 "metadata": {
  "kernelspec": {
   "display_name": "Python 3 (ipykernel)",
   "language": "python",
   "name": "python3"
  },
  "language_info": {
   "codemirror_mode": {
    "name": "ipython",
    "version": 3
   },
   "file_extension": ".py",
   "mimetype": "text/x-python",
   "name": "python",
   "nbconvert_exporter": "python",
   "pygments_lexer": "ipython3",
   "version": "3.9.12"
  }
 },
 "nbformat": 4,
 "nbformat_minor": 5
}
